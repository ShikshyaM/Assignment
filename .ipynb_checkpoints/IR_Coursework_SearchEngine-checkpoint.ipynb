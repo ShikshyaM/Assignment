{
 "cells": [
  {
   "cell_type": "markdown",
   "id": "pharmaceutical-ratio",
   "metadata": {},
   "source": [
    "# Information Retrieval Coursework (7071CEM)\n",
    "\n",
    "Task:\n",
    "Create a vertical search engine comparable to Google Scholar, but specialized in retrieving just \n",
    "papers/books published by a member of Coventry University's Research Centre for Intelligent \n",
    "Healthcare (RCIH).That is, at least one of the co-authors is a member of RCIH.\n",
    "\n"
   ]
  },
  {
   "cell_type": "markdown",
   "id": "amateur-simple",
   "metadata": {},
   "source": [
    "## Required Libraries\n",
    "\n",
    "The Below Libraries are required to be installed to run the code below"
   ]
  },
  {
   "cell_type": "code",
   "execution_count": 82,
   "id": "external-guatemala",
   "metadata": {
    "ExecuteTime": {
     "end_time": "2021-08-01T00:58:01.977307Z",
     "start_time": "2021-08-01T00:58:01.962437Z"
    }
   },
   "outputs": [],
   "source": [
    "# Delete the \"#\" before each subsequent line to install the package\n",
    "\n",
    "# !pip install scrapy\n",
    "# !pip install requests\n",
    "# !pip install BeautifulSoup4\n",
    "# !pip install nltk\n",
    "# !pip install gensim\n",
    "# !pip install xgboost\n",
    "# !pip install pandastable"
   ]
  },
  {
   "cell_type": "markdown",
   "id": "static-registration",
   "metadata": {},
   "source": [
    "## The installed Libraries are imported after the sucessfull installation\n"
   ]
  },
  {
   "cell_type": "code",
   "execution_count": 1,
   "id": "latin-pioneer",
   "metadata": {
    "ExecuteTime": {
     "end_time": "2021-08-01T00:58:06.417024Z",
     "start_time": "2021-08-01T00:58:01.980987Z"
    }
   },
   "outputs": [
    {
     "name": "stderr",
     "output_type": "stream",
     "text": [
      "[nltk_data] Downloading package averaged_perceptron_tagger to\n",
      "[nltk_data]     C:\\Users\\Shrrrr\\AppData\\Roaming\\nltk_data...\n",
      "[nltk_data]   Package averaged_perceptron_tagger is already up-to-\n",
      "[nltk_data]       date!\n",
      "[nltk_data] Downloading package wordnet to\n",
      "[nltk_data]     C:\\Users\\Shrrrr\\AppData\\Roaming\\nltk_data...\n",
      "[nltk_data]   Package wordnet is already up-to-date!\n",
      "[nltk_data] Downloading package stopwords to\n",
      "[nltk_data]     C:\\Users\\Shrrrr\\AppData\\Roaming\\nltk_data...\n",
      "[nltk_data]   Package stopwords is already up-to-date!\n",
      "[nltk_data] Downloading package punkt to\n",
      "[nltk_data]     C:\\Users\\Shrrrr\\AppData\\Roaming\\nltk_data...\n",
      "[nltk_data]   Package punkt is already up-to-date!\n"
     ]
    }
   ],
   "source": [
    "import requests\n",
    "from bs4 import BeautifulSoup\n",
    "import pandas as pd\n",
    "import time\n",
    "import datetime\n",
    "import string\n",
    "import json\n",
    "import nltk\n",
    "nltk.download('averaged_perceptron_tagger')\n",
    "nltk.download('wordnet')\n",
    "nltk.download('stopwords')\n",
    "nltk.download('punkt')\n",
    "from nltk import pos_tag\n",
    "from nltk.corpus import wordnet\n",
    "from nltk.corpus import stopwords\n",
    "from nltk.stem import WordNetLemmatizer "
   ]
  },
  {
   "cell_type": "markdown",
   "id": "virgin-capitol",
   "metadata": {},
   "source": [
    "# 1. Crawler Component(Scraping the data from CU site)"
   ]
  },
  {
   "cell_type": "code",
   "execution_count": 38,
   "id": "million-marks",
   "metadata": {
    "ExecuteTime": {
     "end_time": "2021-08-01T00:58:06.423826Z",
     "start_time": "2021-08-01T00:58:06.420176Z"
    }
   },
   "outputs": [],
   "source": [
    "# Define Seed Page\n",
    "URL = \"https://pureportal.coventry.ac.uk/en/organisations/coventry-university/persons/\"\n",
    "\n",
    "# Define profile URL format. This was obtained by manually examining the profile pages\n",
    "profile_url = \"https://pureportal.coventry.ac.uk/en/persons/\""
   ]
  },
  {
   "cell_type": "markdown",
   "id": "cathedral-repeat",
   "metadata": {},
   "source": [
    "The seed page, i.e coventry researchers profiles landing page, contains profiles of all academic researchers of the University. As there are up to 2206 results, a limited number are displayed at once (50).\n",
    "\n",
    "Even if new profiles are added and a new page is required, the crawler will need to crawl through all pages to access every profile. To do this, a function is defined to retrieve the current total number of result pages. "
   ]
  },
  {
   "cell_type": "code",
   "execution_count": 39,
   "id": "formal-shift",
   "metadata": {
    "ExecuteTime": {
     "end_time": "2021-08-01T00:58:09.277766Z",
     "start_time": "2021-08-01T00:58:06.428114Z"
    }
   },
   "outputs": [],
   "source": [
    "def get_maximum_page():\n",
    "    \n",
    "    first = requests.get(URL)\n",
    "    soup = BeautifulSoup(first.text, 'html.parser')\n",
    "    final_page = soup.select('#main-content > div > section > nav > ul > li:nth-child(12) > a')[0]['href']\n",
    "    fp = final_page.split('=')[-1]\n",
    "    return int(fp)\n",
    "    \n",
    "mx = get_maximum_page()    "
   ]
  },
  {
   "cell_type": "markdown",
   "id": "systematic-mustang",
   "metadata": {},
   "source": [
    "Instead of crawling all researchers, this web crawler is designed to specifically find researchers who:\n",
    "    \n",
    "1. Have research publications\n",
    "2. Are part of the \"**Research Centre for Intelligent \n",
    "Healthcare (RCIH)**\" \n"
   ]
  },
  {
   "cell_type": "code",
   "execution_count": 40,
   "id": "hidden-sugar",
   "metadata": {
    "ExecuteTime": {
     "end_time": "2021-08-01T00:58:09.407285Z",
     "start_time": "2021-08-01T00:58:09.280073Z"
    }
   },
   "outputs": [],
   "source": [
    "def check_department(researcher):\n",
    "    \n",
    "    l1 = researcher.find('div', class_='rendering_person_short')\n",
    "      \n",
    "    for span in l1.find_all('span'):\n",
    "        # Check department\n",
    "        if span.text == str('Centre for Intelligent Healthcare'):\n",
    "            name = researcher.find('h3', class_='title').find('span').text\n",
    "            \n",
    "            return name\n",
    "        else:\n",
    "            pass\n",
    "\n",
    "\n",
    "def remove_data_from_csv(file_path):\n",
    "    # Read the CSV file and keep only the header row\n",
    "    df = pd.read_csv(file_path, nrows=0)\n",
    "\n",
    "    # Save the DataFrame with only the header row back to the CSV file\n",
    "    df.to_csv(file_path, index=False)\n",
    "    \n",
    "def update_csv(database):\n",
    "    current_data = pd.read_csv(database)\n",
    "    return current_data        \n",
    "\n",
    "def enter_each_researchers_publication(researcher, url, df):\n",
    "    current_data = pd.read_csv(df)  # Load existing DataFrame from the CSV file\n",
    "\n",
    "    new_url = url + str(researcher).replace(' ', '-').lower() + '/publications/'\n",
    "    page = requests.get(new_url)\n",
    "    soup = BeautifulSoup(page.content, \"html.parser\")\n",
    "    results = soup.find(id=\"main-content\")\n",
    "    papers = results.find_all(\"li\", class_=\"list-result-item\")\n",
    "\n",
    "    new_rows = []  # List to store the new rows\n",
    "\n",
    "    for index, paper in enumerate(papers, start=len(current_data)+1):\n",
    "        title_element = paper.find('h3', class_='title')\n",
    "        title = title_element.find('span').text if title_element else None\n",
    "\n",
    "        author_element = paper.find('a', class_='link person')\n",
    "        author = author_element.find('span').text if author_element else None\n",
    "\n",
    "        date_element = paper.find('span', class_=\"date\")\n",
    "        date = date_element.text if date_element else None\n",
    "\n",
    "        link_element = paper.find('h3', class_='title').find('a', href=True)\n",
    "        link = link_element['href'] if link_element else None\n",
    "\n",
    "        new_row = {'SN': index,\n",
    "                   'Title': title,\n",
    "                   'Author': author,\n",
    "                   'Published': date,\n",
    "                   'Link': link}\n",
    "\n",
    "        new_rows.append(new_row)  # Append the new row to the list\n",
    "\n",
    "    new_data = pd.DataFrame(new_rows)  # Create a new DataFrame with the new rows\n",
    "    updated_data = pd.concat([current_data, new_data], ignore_index=True)  # Concatenate the existing DataFrame with the new DataFrame\n",
    "\n",
    "    updated_data.to_csv(df, index=False)\n",
    "\n",
    "                "
   ]
  },
  {
   "cell_type": "code",
   "execution_count": 37,
   "id": "accessory-customer",
   "metadata": {
    "ExecuteTime": {
     "end_time": "2021-08-01T00:58:09.442618Z",
     "start_time": "2021-08-01T00:58:09.431490Z"
    }
   },
   "outputs": [],
   "source": [
    "## Scrape function\n",
    "def scrape(mx):\n",
    "    df = r'database.csv'\n",
    "    i=0\n",
    "    while True:\n",
    "    \n",
    "        if i > 45:\n",
    "            break\n",
    "            \n",
    "        if i>0:\n",
    "            url = URL + '?page=' + str(i)\n",
    "        else:\n",
    "            url = URL\n",
    "    \n",
    "        i = i+1\n",
    "        # scraping starts here\n",
    "        page = requests.get(url)\n",
    "        soup = BeautifulSoup(page.content, \"html.parser\")\n",
    "        results = soup.find(id=\"main-content\")\n",
    "        researchers = results.find_all(\"li\", class_=\"grid-result-item\")\n",
    "\n",
    "        for researcher in researchers:\n",
    "            # Check if researcher has any papers\n",
    "            check = researcher.find('div', class_='stacked-trend-widget')\n",
    "            if check:\n",
    "                name = check_department(researcher)\n",
    "                if name is None:\n",
    "                    pass\n",
    "                else:\n",
    "                    enter_each_researchers_publication(name, profile_url, df)"
   ]
  },
  {
   "cell_type": "code",
   "execution_count": 41,
   "id": "absent-vegetable",
   "metadata": {
    "ExecuteTime": {
     "end_time": "2021-08-01T00:59:40.554457Z",
     "start_time": "2021-08-01T00:58:09.447859Z"
    },
    "scrolled": true
   },
   "outputs": [
    {
     "name": "stdout",
     "output_type": "stream",
     "text": [
      "Wall time: 2min 34s\n"
     ]
    }
   ],
   "source": [
    "remove_data_from_csv(r'database.csv')\n",
    "update_csv(database=r'database.csv') #create_csv\n",
    "\n",
    "%time scrape(mx) "
   ]
  },
  {
   "cell_type": "code",
   "execution_count": 7,
   "id": "associate-subscription",
   "metadata": {
    "ExecuteTime": {
     "end_time": "2021-08-01T00:59:40.569218Z",
     "start_time": "2021-08-01T00:59:40.557023Z"
    },
    "scrolled": false
   },
   "outputs": [
    {
     "name": "stdout",
     "output_type": "stream",
     "text": [
      "126 records were scraped\n"
     ]
    }
   ],
   "source": [
    "sample_db = pd.read_csv('database.csv').rename(columns={'Unnamed: 0':'SN'})\n",
    "sample_db\n",
    "print(f'{sample_db.shape[0]} records were scraped')"
   ]
  },
  {
   "cell_type": "markdown",
   "id": "herbal-desktop",
   "metadata": {},
   "source": [
    "# 2. Indexing Component"
   ]
  },
  {
   "cell_type": "code",
   "execution_count": 8,
   "id": "graphic-potter",
   "metadata": {
    "ExecuteTime": {
     "end_time": "2021-08-01T00:59:40.600384Z",
     "start_time": "2021-08-01T00:59:40.572032Z"
    }
   },
   "outputs": [
    {
     "data": {
      "text/html": [
       "<div>\n",
       "<style scoped>\n",
       "    .dataframe tbody tr th:only-of-type {\n",
       "        vertical-align: middle;\n",
       "    }\n",
       "\n",
       "    .dataframe tbody tr th {\n",
       "        vertical-align: top;\n",
       "    }\n",
       "\n",
       "    .dataframe thead th {\n",
       "        text-align: right;\n",
       "    }\n",
       "</style>\n",
       "<table border=\"1\" class=\"dataframe\">\n",
       "  <thead>\n",
       "    <tr style=\"text-align: right;\">\n",
       "      <th></th>\n",
       "      <th>SN</th>\n",
       "      <th>Title</th>\n",
       "      <th>Author</th>\n",
       "      <th>Published</th>\n",
       "      <th>Link</th>\n",
       "    </tr>\n",
       "  </thead>\n",
       "  <tbody>\n",
       "    <tr>\n",
       "      <th>0</th>\n",
       "      <td>1</td>\n",
       "      <td>Deep learning identification of coronary arter...</td>\n",
       "      <td>Allen, J.</td>\n",
       "      <td>1 Sept 2023</td>\n",
       "      <td>https://pureportal.coventry.ac.uk/en/publicati...</td>\n",
       "    </tr>\n",
       "    <tr>\n",
       "      <th>1</th>\n",
       "      <td>2</td>\n",
       "      <td>Usability and preliminary efficacy of an AI-dr...</td>\n",
       "      <td>Bul, K.</td>\n",
       "      <td>16 Apr 2023</td>\n",
       "      <td>https://pureportal.coventry.ac.uk/en/publicati...</td>\n",
       "    </tr>\n",
       "    <tr>\n",
       "      <th>2</th>\n",
       "      <td>3</td>\n",
       "      <td>Assessing hemodynamics from the photoplethysmo...</td>\n",
       "      <td>Allen, J.</td>\n",
       "      <td>1 Apr 2022</td>\n",
       "      <td>https://pureportal.coventry.ac.uk/en/publicati...</td>\n",
       "    </tr>\n",
       "    <tr>\n",
       "      <th>3</th>\n",
       "      <td>4</td>\n",
       "      <td>Book Pitch article on Photoplethysmography: te...</td>\n",
       "      <td>Allen, J.</td>\n",
       "      <td>25 May 2022</td>\n",
       "      <td>https://pureportal.coventry.ac.uk/en/publicati...</td>\n",
       "    </tr>\n",
       "    <tr>\n",
       "      <th>4</th>\n",
       "      <td>5</td>\n",
       "      <td>Ethnic Disparities in Publicly-available Pulse...</td>\n",
       "      <td>Allen, J.</td>\n",
       "      <td>27 May 2022</td>\n",
       "      <td>https://pureportal.coventry.ac.uk/en/publicati...</td>\n",
       "    </tr>\n",
       "  </tbody>\n",
       "</table>\n",
       "</div>"
      ],
      "text/plain": [
       "   SN                                              Title     Author  \\\n",
       "0   1  Deep learning identification of coronary arter...  Allen, J.   \n",
       "1   2  Usability and preliminary efficacy of an AI-dr...    Bul, K.   \n",
       "2   3  Assessing hemodynamics from the photoplethysmo...  Allen, J.   \n",
       "3   4  Book Pitch article on Photoplethysmography: te...  Allen, J.   \n",
       "4   5  Ethnic Disparities in Publicly-available Pulse...  Allen, J.   \n",
       "\n",
       "     Published                                               Link  \n",
       "0  1 Sept 2023  https://pureportal.coventry.ac.uk/en/publicati...  \n",
       "1  16 Apr 2023  https://pureportal.coventry.ac.uk/en/publicati...  \n",
       "2   1 Apr 2022  https://pureportal.coventry.ac.uk/en/publicati...  \n",
       "3  25 May 2022  https://pureportal.coventry.ac.uk/en/publicati...  \n",
       "4  27 May 2022  https://pureportal.coventry.ac.uk/en/publicati...  "
      ]
     },
     "execution_count": 8,
     "metadata": {},
     "output_type": "execute_result"
    }
   ],
   "source": [
    "scraped_db = pd.read_csv('database.csv').rename(columns={'Unnamed: 0':'SN'}).reset_index(drop=True)\n",
    "scraped_db.head()\n",
    "# scraped_db = pd.read_csv('database.csv', index_col=0)"
   ]
  },
  {
   "cell_type": "code",
   "execution_count": 10,
   "id": "marine-coordinate",
   "metadata": {
    "ExecuteTime": {
     "end_time": "2021-08-01T07:22:25.795248Z",
     "start_time": "2021-08-01T07:22:25.784819Z"
    }
   },
   "outputs": [
    {
     "data": {
      "text/html": [
       "<div>\n",
       "<style scoped>\n",
       "    .dataframe tbody tr th:only-of-type {\n",
       "        vertical-align: middle;\n",
       "    }\n",
       "\n",
       "    .dataframe tbody tr th {\n",
       "        vertical-align: top;\n",
       "    }\n",
       "\n",
       "    .dataframe thead th {\n",
       "        text-align: right;\n",
       "    }\n",
       "</style>\n",
       "<table border=\"1\" class=\"dataframe\">\n",
       "  <thead>\n",
       "    <tr style=\"text-align: right;\">\n",
       "      <th></th>\n",
       "      <th>SN</th>\n",
       "      <th>Title</th>\n",
       "      <th>Author</th>\n",
       "      <th>Published</th>\n",
       "      <th>Link</th>\n",
       "    </tr>\n",
       "  </thead>\n",
       "  <tbody>\n",
       "    <tr>\n",
       "      <th>0</th>\n",
       "      <td>1</td>\n",
       "      <td>Deep learning identification of coronary arter...</td>\n",
       "      <td>Allen, J.</td>\n",
       "      <td>1 Sept 2023</td>\n",
       "      <td>https://pureportal.coventry.ac.uk/en/publicati...</td>\n",
       "    </tr>\n",
       "    <tr>\n",
       "      <th>1</th>\n",
       "      <td>2</td>\n",
       "      <td>Usability and preliminary efficacy of an AI-dr...</td>\n",
       "      <td>Bul, K.</td>\n",
       "      <td>16 Apr 2023</td>\n",
       "      <td>https://pureportal.coventry.ac.uk/en/publicati...</td>\n",
       "    </tr>\n",
       "    <tr>\n",
       "      <th>2</th>\n",
       "      <td>3</td>\n",
       "      <td>Assessing hemodynamics from the photoplethysmo...</td>\n",
       "      <td>Allen, J.</td>\n",
       "      <td>1 Apr 2022</td>\n",
       "      <td>https://pureportal.coventry.ac.uk/en/publicati...</td>\n",
       "    </tr>\n",
       "    <tr>\n",
       "      <th>3</th>\n",
       "      <td>4</td>\n",
       "      <td>Book Pitch article on Photoplethysmography: te...</td>\n",
       "      <td>Allen, J.</td>\n",
       "      <td>25 May 2022</td>\n",
       "      <td>https://pureportal.coventry.ac.uk/en/publicati...</td>\n",
       "    </tr>\n",
       "    <tr>\n",
       "      <th>4</th>\n",
       "      <td>5</td>\n",
       "      <td>Ethnic Disparities in Publicly-available Pulse...</td>\n",
       "      <td>Allen, J.</td>\n",
       "      <td>27 May 2022</td>\n",
       "      <td>https://pureportal.coventry.ac.uk/en/publicati...</td>\n",
       "    </tr>\n",
       "    <tr>\n",
       "      <th>5</th>\n",
       "      <td>6</td>\n",
       "      <td>Novel pulse device for diagnosis of peripheral...</td>\n",
       "      <td>Allen, J.</td>\n",
       "      <td>24 Oct 2022</td>\n",
       "      <td>https://pureportal.coventry.ac.uk/en/publicati...</td>\n",
       "    </tr>\n",
       "    <tr>\n",
       "      <th>6</th>\n",
       "      <td>7</td>\n",
       "      <td>Prospective assessment of the diagnostic accur...</td>\n",
       "      <td>Allen, J.</td>\n",
       "      <td>18 Aug 2022</td>\n",
       "      <td>https://pureportal.coventry.ac.uk/en/publicati...</td>\n",
       "    </tr>\n",
       "  </tbody>\n",
       "</table>\n",
       "</div>"
      ],
      "text/plain": [
       "   SN                                              Title     Author  \\\n",
       "0   1  Deep learning identification of coronary arter...  Allen, J.   \n",
       "1   2  Usability and preliminary efficacy of an AI-dr...    Bul, K.   \n",
       "2   3  Assessing hemodynamics from the photoplethysmo...  Allen, J.   \n",
       "3   4  Book Pitch article on Photoplethysmography: te...  Allen, J.   \n",
       "4   5  Ethnic Disparities in Publicly-available Pulse...  Allen, J.   \n",
       "5   6  Novel pulse device for diagnosis of peripheral...  Allen, J.   \n",
       "6   7  Prospective assessment of the diagnostic accur...  Allen, J.   \n",
       "\n",
       "     Published                                               Link  \n",
       "0  1 Sept 2023  https://pureportal.coventry.ac.uk/en/publicati...  \n",
       "1  16 Apr 2023  https://pureportal.coventry.ac.uk/en/publicati...  \n",
       "2   1 Apr 2022  https://pureportal.coventry.ac.uk/en/publicati...  \n",
       "3  25 May 2022  https://pureportal.coventry.ac.uk/en/publicati...  \n",
       "4  27 May 2022  https://pureportal.coventry.ac.uk/en/publicati...  \n",
       "5  24 Oct 2022  https://pureportal.coventry.ac.uk/en/publicati...  \n",
       "6  18 Aug 2022  https://pureportal.coventry.ac.uk/en/publicati...  "
      ]
     },
     "execution_count": 10,
     "metadata": {},
     "output_type": "execute_result"
    }
   ],
   "source": [
    "sample_db.head(7)\n",
    "#ids = scraped_db[\"Title\"]\n",
    "#scraped_db[ids.isin(ids[ids.duplicated()])]"
   ]
  },
  {
   "cell_type": "code",
   "execution_count": 11,
   "id": "legendary-trauma",
   "metadata": {
    "ExecuteTime": {
     "end_time": "2021-08-01T00:59:40.612357Z",
     "start_time": "2021-08-01T00:59:40.603287Z"
    }
   },
   "outputs": [
    {
     "data": {
      "text/plain": [
       "SN                                                           2\n",
       "Title        Usability and preliminary efficacy of an AI-dr...\n",
       "Author                                                 Bul, K.\n",
       "Published                                          16 Apr 2023\n",
       "Link         https://pureportal.coventry.ac.uk/en/publicati...\n",
       "Name: 1, dtype: object"
      ]
     },
     "execution_count": 11,
     "metadata": {},
     "output_type": "execute_result"
    }
   ],
   "source": [
    "single_row = scraped_db.loc[1,:].copy()\n",
    "single_row"
   ]
  },
  {
   "cell_type": "markdown",
   "id": "valid-humor",
   "metadata": {},
   "source": [
    "## 2.1 Preprocess Text"
   ]
  },
  {
   "cell_type": "code",
   "execution_count": 12,
   "id": "quiet-train",
   "metadata": {
    "ExecuteTime": {
     "end_time": "2021-08-01T00:59:40.647183Z",
     "start_time": "2021-08-01T00:59:40.615161Z"
    }
   },
   "outputs": [],
   "source": [
    "# Remove stop words\n",
    "sw = stopwords.words(\"english\")\n",
    "lemmatizer = WordNetLemmatizer()\n",
    "\n",
    "\n",
    "\n",
    "\n",
    "def tp1(txt):\n",
    "    txt = txt.lower()   # Make lowercase\n",
    "    txt = txt.translate(str.maketrans('',\n",
    "                                      '',\n",
    "                                      string.punctuation))   # Remove punctuation marks\n",
    "    txt = lematize(txt)\n",
    "    return txt\n",
    "\n",
    "\n",
    "def fwpt(word):\n",
    "    tag = pos_tag([word])[0][1][0].upper()\n",
    "    hash_tag = {\"V\": wordnet.VERB, \"R\": wordnet.ADV,\"N\": wordnet.NOUN,\"J\": wordnet.ADJ}         \n",
    "    return hash_tag.get(tag, wordnet.NOUN)\n",
    "\n",
    "def lematize(text):\n",
    "        tkns = nltk.word_tokenize(text)\n",
    "        ax = \"\"\n",
    "        for each in tkns:\n",
    "            if each not in sw:\n",
    "                ax += lemmatizer.lemmatize(each, fwpt(each)) + \" \"\n",
    "        return ax\n"
   ]
  },
  {
   "cell_type": "code",
   "execution_count": 13,
   "id": "fixed-triple",
   "metadata": {
    "ExecuteTime": {
     "end_time": "2021-08-01T00:59:40.670745Z",
     "start_time": "2021-08-01T00:59:40.658588Z"
    }
   },
   "outputs": [
    {
     "data": {
      "text/plain": [
       "'Usability and preliminary efficacy of an AI-driven platform supporting dietary management in diabetes: A mixed-method study'"
      ]
     },
     "execution_count": 13,
     "metadata": {},
     "output_type": "execute_result"
    }
   ],
   "source": [
    "# Sample title\n",
    "single_row['Title']"
   ]
  },
  {
   "cell_type": "code",
   "execution_count": 14,
   "id": "honey-strain",
   "metadata": {
    "ExecuteTime": {
     "end_time": "2021-08-01T00:59:43.014244Z",
     "start_time": "2021-08-01T00:59:40.699046Z"
    }
   },
   "outputs": [
    {
     "data": {
      "text/plain": [
       "'usability preliminary efficacy aidriven platform support dietary management diabetes mixedmethod study '"
      ]
     },
     "execution_count": 14,
     "metadata": {},
     "output_type": "execute_result"
    }
   ],
   "source": [
    "# Demonstration of lowercase and punctuation removal\n",
    "tp1(single_row['Title'])"
   ]
  },
  {
   "cell_type": "code",
   "execution_count": 15,
   "id": "coordinated-columbus",
   "metadata": {
    "ExecuteTime": {
     "end_time": "2021-08-01T00:59:43.027827Z",
     "start_time": "2021-08-01T00:59:43.016665Z"
    }
   },
   "outputs": [
    {
     "data": {
      "text/plain": [
       "'usability preliminary efficacy aidriven platform support dietary management diabetes mixedmethod study '"
      ]
     },
     "execution_count": 15,
     "metadata": {},
     "output_type": "execute_result"
    }
   ],
   "source": [
    "# Demonstration of lematization\n",
    "\n",
    "lematize(tp1(single_row['Title']))\n",
    "#lematize(single_row['Title'])"
   ]
  },
  {
   "cell_type": "markdown",
   "id": "equipped-retrieval",
   "metadata": {},
   "source": [
    "#### Unprocessed"
   ]
  },
  {
   "cell_type": "code",
   "execution_count": 16,
   "id": "steady-snapshot",
   "metadata": {
    "ExecuteTime": {
     "end_time": "2021-08-01T07:25:01.875323Z",
     "start_time": "2021-08-01T07:25:01.858252Z"
    }
   },
   "outputs": [
    {
     "data": {
      "text/plain": [
       "'Novel pulse device for diagnosis of peripheral arterial disease (NOTEPAD): ISRCTN13301188'"
      ]
     },
     "execution_count": 16,
     "metadata": {},
     "output_type": "execute_result"
    }
   ],
   "source": [
    "sample_db['Title'].iloc[5]"
   ]
  },
  {
   "cell_type": "markdown",
   "id": "available-height",
   "metadata": {},
   "source": [
    "#### Processed"
   ]
  },
  {
   "cell_type": "code",
   "execution_count": 17,
   "id": "vocal-burton",
   "metadata": {
    "ExecuteTime": {
     "end_time": "2021-08-01T07:25:27.562359Z",
     "start_time": "2021-08-01T07:25:27.557862Z"
    }
   },
   "outputs": [
    {
     "data": {
      "text/plain": [
       "'Novel pulse device for diagnosis of peripheral arterial disease (NOTEPAD): ISRCTN13301188'"
      ]
     },
     "execution_count": 17,
     "metadata": {},
     "output_type": "execute_result"
    }
   ],
   "source": [
    "scraped_db['Title'].iloc[5]"
   ]
  },
  {
   "cell_type": "markdown",
   "id": "biological-level",
   "metadata": {},
   "source": [
    "### 2.1.1 Preprocess entire dataframe"
   ]
  },
  {
   "cell_type": "code",
   "execution_count": 18,
   "id": "national-alexander",
   "metadata": {
    "ExecuteTime": {
     "end_time": "2021-08-01T00:59:43.834681Z",
     "start_time": "2021-08-01T00:59:43.030064Z"
    }
   },
   "outputs": [
    {
     "data": {
      "text/html": [
       "<div>\n",
       "<style scoped>\n",
       "    .dataframe tbody tr th:only-of-type {\n",
       "        vertical-align: middle;\n",
       "    }\n",
       "\n",
       "    .dataframe tbody tr th {\n",
       "        vertical-align: top;\n",
       "    }\n",
       "\n",
       "    .dataframe thead th {\n",
       "        text-align: right;\n",
       "    }\n",
       "</style>\n",
       "<table border=\"1\" class=\"dataframe\">\n",
       "  <thead>\n",
       "    <tr style=\"text-align: right;\">\n",
       "      <th></th>\n",
       "      <th>SN</th>\n",
       "      <th>Title</th>\n",
       "      <th>Author</th>\n",
       "      <th>Published</th>\n",
       "      <th>Link</th>\n",
       "    </tr>\n",
       "  </thead>\n",
       "  <tbody>\n",
       "    <tr>\n",
       "      <th>0</th>\n",
       "      <td>1</td>\n",
       "      <td>deep learn identification coronary artery dise...</td>\n",
       "      <td>allen, j.</td>\n",
       "      <td>1 Sept 2023</td>\n",
       "      <td>https://pureportal.coventry.ac.uk/en/publicati...</td>\n",
       "    </tr>\n",
       "    <tr>\n",
       "      <th>1</th>\n",
       "      <td>2</td>\n",
       "      <td>usability preliminary efficacy aidriven platfo...</td>\n",
       "      <td>bul, k.</td>\n",
       "      <td>16 Apr 2023</td>\n",
       "      <td>https://pureportal.coventry.ac.uk/en/publicati...</td>\n",
       "    </tr>\n",
       "    <tr>\n",
       "      <th>2</th>\n",
       "      <td>3</td>\n",
       "      <td>assess hemodynamics photoplethysmogram gain in...</td>\n",
       "      <td>allen, j.</td>\n",
       "      <td>1 Apr 2022</td>\n",
       "      <td>https://pureportal.coventry.ac.uk/en/publicati...</td>\n",
       "    </tr>\n",
       "    <tr>\n",
       "      <th>3</th>\n",
       "      <td>4</td>\n",
       "      <td>book pitch article photoplethysmography techno...</td>\n",
       "      <td>allen, j.</td>\n",
       "      <td>25 May 2022</td>\n",
       "      <td>https://pureportal.coventry.ac.uk/en/publicati...</td>\n",
       "    </tr>\n",
       "    <tr>\n",
       "      <th>4</th>\n",
       "      <td>5</td>\n",
       "      <td>ethnic disparity publiclyavailable pulse oxime...</td>\n",
       "      <td>allen, j.</td>\n",
       "      <td>27 May 2022</td>\n",
       "      <td>https://pureportal.coventry.ac.uk/en/publicati...</td>\n",
       "    </tr>\n",
       "  </tbody>\n",
       "</table>\n",
       "</div>"
      ],
      "text/plain": [
       "   SN                                              Title     Author  \\\n",
       "0   1  deep learn identification coronary artery dise...  allen, j.   \n",
       "1   2  usability preliminary efficacy aidriven platfo...    bul, k.   \n",
       "2   3  assess hemodynamics photoplethysmogram gain in...  allen, j.   \n",
       "3   4  book pitch article photoplethysmography techno...  allen, j.   \n",
       "4   5  ethnic disparity publiclyavailable pulse oxime...  allen, j.   \n",
       "\n",
       "     Published                                               Link  \n",
       "0  1 Sept 2023  https://pureportal.coventry.ac.uk/en/publicati...  \n",
       "1  16 Apr 2023  https://pureportal.coventry.ac.uk/en/publicati...  \n",
       "2   1 Apr 2022  https://pureportal.coventry.ac.uk/en/publicati...  \n",
       "3  25 May 2022  https://pureportal.coventry.ac.uk/en/publicati...  \n",
       "4  27 May 2022  https://pureportal.coventry.ac.uk/en/publicati...  "
      ]
     },
     "execution_count": 18,
     "metadata": {},
     "output_type": "execute_result"
    }
   ],
   "source": [
    "processed_db = scraped_db.copy()\n",
    "\n",
    "def preprocess_df(df):\n",
    "    df.Title = df.Title.apply(tp1)\n",
    "    df.Author = df.Author.str.lower()\n",
    "    df = df.drop(columns=['Author','Published'], axis=1)\n",
    "    return df\n",
    "    \n",
    "preprocess_df(processed_db)\n",
    "processed_db.head()"
   ]
  },
  {
   "cell_type": "markdown",
   "id": "offshore-driver",
   "metadata": {},
   "source": [
    "## 2.2 Index Construction"
   ]
  },
  {
   "cell_type": "code",
   "execution_count": 19,
   "id": "insured-water",
   "metadata": {
    "ExecuteTime": {
     "end_time": "2021-08-01T00:59:43.845672Z",
     "start_time": "2021-08-01T00:59:43.837012Z"
    }
   },
   "outputs": [
    {
     "name": "stdout",
     "output_type": "stream",
     "text": [
      "SN                                                           1\n",
      "Title        deep learn identification coronary artery dise...\n",
      "Author                                               allen, j.\n",
      "Published                                          1 Sept 2023\n",
      "Link         https://pureportal.coventry.ac.uk/en/publicati...\n",
      "Name: 0, dtype: object\n",
      "=====================================================================\n",
      "Sample index\n",
      "{'deep': [1]}\n"
     ]
    }
   ],
   "source": [
    "single = processed_db.loc[0,:].copy()\n",
    "print(single)\n",
    "indexing_trial = {}\n",
    "\n",
    "words = single.Title.split()\n",
    "SN = single.SN\n",
    "word = words[0]\n",
    "example = {word: [SN]}\n",
    "\n",
    "print('*****************************************')\n",
    "print('Sample index')\n",
    "print(example)"
   ]
  },
  {
   "cell_type": "code",
   "execution_count": 20,
   "id": "upper-flour",
   "metadata": {
    "ExecuteTime": {
     "end_time": "2021-08-01T00:59:43.854491Z",
     "start_time": "2021-08-01T00:59:43.848459Z"
    }
   },
   "outputs": [],
   "source": [
    "## Indexer Function\n",
    "def apply_index(inputs, index):\n",
    "    words = inputs.Title.split()\n",
    "    SN = int(inputs.SN)\n",
    "    for word in words:\n",
    "        if word in index.keys():\n",
    "            if SN not in index[word]:\n",
    "                index[word].append(SN)\n",
    "        else:\n",
    "            index[word] = [SN]\n",
    "    return index\n",
    "\n",
    "indx = apply_index(inputs=single, index= {})\n",
    "#print(indx)"
   ]
  },
  {
   "cell_type": "markdown",
   "id": "selective-senior",
   "metadata": {
    "ExecuteTime": {
     "end_time": "2021-07-31T02:46:26.572666Z",
     "start_time": "2021-07-31T02:46:26.567533Z"
    }
   },
   "source": [
    " "
   ]
  },
  {
   "cell_type": "code",
   "execution_count": 21,
   "id": "knowing-amsterdam",
   "metadata": {
    "ExecuteTime": {
     "end_time": "2021-08-01T00:59:44.790404Z",
     "start_time": "2021-08-01T00:59:43.857267Z"
    }
   },
   "outputs": [],
   "source": [
    "def full_index(df, index):\n",
    "    for x in range(len(df)):\n",
    "        inpt = df.loc[x,:]\n",
    "        ind = apply_index(inputs=inpt, index=index)\n",
    "    return ind\n",
    "\n",
    "def construct_index(df, index):\n",
    "    queue = preprocess_df(df)\n",
    "    ind = full_index(df=queue, index=index)\n",
    "    return ind\n",
    "\n",
    "indexed = full_index(processed_db, \n",
    "                     index = {})\n",
    "\n",
    "\n",
    "indexes = construct_index(df=scraped_db, \n",
    "                          index = {})"
   ]
  },
  {
   "cell_type": "code",
   "execution_count": 22,
   "id": "presidential-piano",
   "metadata": {
    "ExecuteTime": {
     "end_time": "2021-08-01T00:59:44.827243Z",
     "start_time": "2021-08-01T00:59:44.796816Z"
    }
   },
   "outputs": [],
   "source": [
    "with open('indexes.json', 'w') as new_f:\n",
    "    json.dump(indexes, new_f, sort_keys=True, indent=4)\n",
    "    \n",
    "with open('indexes.json', 'r') as file:\n",
    "    data = json.load(file)\n",
    "\n",
    "def index_2(df, x_path):\n",
    "    if len(df) > 0:\n",
    "        with open(x_path, 'r') as file:\n",
    "            prior_index = json.load(file)\n",
    "        new_index = construct_index(df = df, index = prior_index)\n",
    "        with open(x_path, 'w') as new_f:\n",
    "            json.dump(new_index, new_f, sort_keys=True, indent=4)"
   ]
  },
  {
   "cell_type": "code",
   "execution_count": 23,
   "id": "deluxe-jesus",
   "metadata": {
    "ExecuteTime": {
     "end_time": "2021-08-01T10:41:54.049783Z",
     "start_time": "2021-08-01T10:41:53.953783Z"
    }
   },
   "outputs": [
    {
     "data": {
      "text/plain": [
       "630"
      ]
     },
     "execution_count": 23,
     "metadata": {},
     "output_type": "execute_result"
    }
   ],
   "source": [
    "len(data)"
   ]
  },
  {
   "cell_type": "code",
   "execution_count": 24,
   "id": "pressing-editing",
   "metadata": {
    "ExecuteTime": {
     "end_time": "2021-08-01T23:13:44.430869Z",
     "start_time": "2021-08-01T23:13:44.285366Z"
    }
   },
   "outputs": [
    {
     "data": {
      "text/plain": [
       "{'185': [54],\n",
       " '21st': [96],\n",
       " '3rs': [82],\n",
       " '3′utr': [54],\n",
       " '7': [86],\n",
       " 'aankomende': [109],\n",
       " 'abnormality': [32],\n",
       " 'acceptance': [101],\n",
       " 'accord': [61],\n",
       " 'accuracy': [7, 21],\n",
       " 'across': [110],\n",
       " 'activation': [66],\n",
       " 'active': [51],\n",
       " 'adaptive': [63],\n",
       " 'address': [115, 117],\n",
       " 'adhd': [123, 124],\n",
       " 'adjunct': [119],\n",
       " 'adolescence': [103],\n",
       " 'adolescent': [102, 104, 110, 118],\n",
       " 'adult': [40, 79, 85, 87, 96, 102],\n",
       " 'advance': [22],\n",
       " 'age': [3, 20, 53, 56, 64, 65, 79, 81, 93, 95],\n",
       " 'ageassociated': [61, 98],\n",
       " 'agerelated': [23, 92],\n",
       " 'aidriven': [2, 8, 106, 107],\n",
       " 'al': [108],\n",
       " 'amplitude': [43],\n",
       " 'analysis': [4, 14, 43, 44, 46, 57, 58, 79, 105],\n",
       " 'animal': [71],\n",
       " 'anklebrachial': [34],\n",
       " 'antigrippes': [80],\n",
       " 'antioxidant': [99],\n",
       " 'anxiety': [105],\n",
       " 'application': [4, 14, 15, 102],\n",
       " 'apply': [46],\n",
       " 'approach': [27, 56, 118],\n",
       " 'appropriate': [52],\n",
       " 'arterial': [6, 9, 10, 21, 34, 35, 39, 41, 43, 44, 48],\n",
       " 'artery': [1, 7],\n",
       " 'article': [4],\n",
       " 'as': [108],\n",
       " 'assay': [87],\n",
       " 'assess': [3],\n",
       " 'assessment': [7, 13, 16, 24, 31, 40, 45, 47, 49],\n",
       " 'associate': [38, 54],\n",
       " 'association': [104],\n",
       " 'atrophy': [98],\n",
       " 'attend': [29],\n",
       " 'attention': [114, 125],\n",
       " 'attentiondeficithyperactivity': [119],\n",
       " 'autistic': [105],\n",
       " 'automate': [78],\n",
       " 'autonomic': [13],\n",
       " 'avalanche': [77],\n",
       " 'aviremic': [66],\n",
       " 'aware': [59],\n",
       " 'barrier': [58, 86],\n",
       " 'base': [10, 69],\n",
       " 'bcell': [95],\n",
       " 'behavior': [110, 125],\n",
       " 'behavioral': [119],\n",
       " 'benchmarking': [113],\n",
       " 'benefit': [114],\n",
       " 'best': [68, 103],\n",
       " 'beyond': [56],\n",
       " 'bilateral': [1],\n",
       " 'biomarkers': [64],\n",
       " 'biomedical': [113],\n",
       " 'blood': [25, 31, 74, 78, 87],\n",
       " 'board': [112],\n",
       " 'body': [12],\n",
       " 'book': [4],\n",
       " 'breathing': [36],\n",
       " 'breed': [61],\n",
       " 'bts': [115],\n",
       " 'burden': [55, 88],\n",
       " 'canine': [54],\n",
       " 'capillaroscopy': [32],\n",
       " 'capillary': [49],\n",
       " 'card': [74],\n",
       " 'care': [7, 33, 35, 41],\n",
       " 'carers': [126],\n",
       " 'casecontrol': [21],\n",
       " 'cd34': [70],\n",
       " 'cd8': [71],\n",
       " 'ce': [76],\n",
       " 'cell': [51, 53, 62, 70, 75, 88],\n",
       " 'cellmediated': [93],\n",
       " 'cellular': [65],\n",
       " 'century': [96],\n",
       " 'cerebellar': [51],\n",
       " 'challenge': [19, 31, 42, 100],\n",
       " 'challenged': [71],\n",
       " 'change': [23, 36],\n",
       " 'characteristic': [43],\n",
       " 'chez': [80],\n",
       " 'chikungunya': [55, 59],\n",
       " 'child': [114, 119, 123, 124, 125, 126],\n",
       " 'choice': [56],\n",
       " 'classification': [9, 10],\n",
       " 'claudication': [18],\n",
       " 'clavicular': [69],\n",
       " 'clinic': [29, 68],\n",
       " 'clinical': [24, 26, 41],\n",
       " 'clinician': [115, 117],\n",
       " 'cluster': [46],\n",
       " 'coach': [116, 120, 121],\n",
       " 'codesign': [110],\n",
       " 'cold': [42],\n",
       " 'collection': [30],\n",
       " 'colour': [11],\n",
       " 'come': [77],\n",
       " 'commander': [123],\n",
       " 'commission': [33],\n",
       " 'communicate': [39],\n",
       " 'comparator': [40],\n",
       " 'compare': [48],\n",
       " 'comparison': [49, 78],\n",
       " 'composition': [45],\n",
       " 'comprehensive': [79],\n",
       " 'concept': [39],\n",
       " 'concern': [115, 117],\n",
       " 'conference': [115, 117],\n",
       " 'consultancy': [111],\n",
       " 'contrast': [42],\n",
       " 'control': [26, 96, 119],\n",
       " 'coronary': [1],\n",
       " 'correction': [82],\n",
       " 'corumination': [104],\n",
       " 'creative': [115, 117],\n",
       " 'cross': [86],\n",
       " 'cuffless': [25],\n",
       " 'culture': [62],\n",
       " 'currently': [60],\n",
       " 'data': [26, 122],\n",
       " 'database': [5, 20, 113],\n",
       " 'db': [78],\n",
       " 'de': [80, 108],\n",
       " 'deacetylase': [62],\n",
       " 'decline': [61],\n",
       " 'deep': [1, 10],\n",
       " 'deficit': [114],\n",
       " 'definition': [12],\n",
       " 'delay': [36],\n",
       " 'delivery': [98],\n",
       " 'demonstrate': [44],\n",
       " 'depression': [105],\n",
       " 'depressive': [103],\n",
       " 'dermoscopy': [49],\n",
       " 'design': [116],\n",
       " 'detect': [32, 48],\n",
       " 'detection': [10, 27, 39, 113],\n",
       " 'develop': [29],\n",
       " 'development': [37, 86, 111, 123],\n",
       " 'device': [6, 41, 50, 57, 58, 69],\n",
       " 'diabetes': [2, 8, 106, 107, 116, 120],\n",
       " 'diabetic': [26, 29, 50],\n",
       " 'diagnosis': [6, 7, 34, 35, 41],\n",
       " 'diagnostic': [7],\n",
       " 'dietary': [2, 8, 106, 107],\n",
       " 'different': [12],\n",
       " 'differentiation': [70],\n",
       " 'differs': [61],\n",
       " 'difficulty': [126],\n",
       " 'digital': [111, 121],\n",
       " 'discretechoice': [41],\n",
       " 'disease': [1, 6, 7, 9, 10, 16, 21, 34, 35, 39, 41, 43, 48, 88, 92],\n",
       " 'disentangle': [103],\n",
       " 'disorder': [51, 101, 114, 119],\n",
       " 'disparity': [5],\n",
       " 'disposable': [38],\n",
       " 'distress': [104],\n",
       " 'diverse': [20],\n",
       " 'dna': [78],\n",
       " 'document': [113],\n",
       " 'dog': [53, 54, 61],\n",
       " 'dose': [71],\n",
       " 'dry': [74, 78, 87],\n",
       " 'duplex': [9],\n",
       " 'dyadic': [103],\n",
       " 'eat': [101],\n",
       " 'economic': [48],\n",
       " 'edinburgh': [18],\n",
       " 'educational': [122],\n",
       " 'effect': [63, 98, 99, 103, 119],\n",
       " 'effectiveness': [57, 58, 79, 89, 93],\n",
       " 'efficacité': [80],\n",
       " 'efficacy': [2, 8, 106, 107],\n",
       " 'ehealth': [102],\n",
       " 'elderly': [52, 67, 68, 73, 91, 100],\n",
       " 'electrocardiogram': [24, 36],\n",
       " 'element': [38],\n",
       " 'emotional': [104],\n",
       " 'en': [109],\n",
       " 'enable': [70],\n",
       " 'enact': [118],\n",
       " 'encode': [39],\n",
       " 'endusers': [57],\n",
       " 'epidemiological': [55],\n",
       " 'estimate': [41, 87],\n",
       " 'ethnic': [5],\n",
       " 'europe': [110],\n",
       " 'evaluation': [116],\n",
       " 'everincreasing': [81],\n",
       " 'evidence': [79],\n",
       " 'examine': [32],\n",
       " 'experience': [34, 89, 101, 120],\n",
       " 'experiment': [41],\n",
       " 'experimental': [88],\n",
       " 'expert': [22],\n",
       " 'expertcurated': [113],\n",
       " 'exploitation': [111],\n",
       " 'exploration': [11],\n",
       " 'extreme': [95],\n",
       " 'factor': [124],\n",
       " 'feasibility': [110],\n",
       " 'feature': [12, 24],\n",
       " 'filter': [12],\n",
       " 'filteringinduced': [12],\n",
       " 'finger': [1, 32],\n",
       " 'firstever': [24],\n",
       " 'fluorescence': [45],\n",
       " 'focus': [30],\n",
       " 'fontan': [40],\n",
       " 'foot': [26, 29, 47, 50],\n",
       " 'frailty': [92],\n",
       " 'frequency': [13],\n",
       " 'friend': [103, 104],\n",
       " 'function': [13, 52, 88],\n",
       " 'gain': [3],\n",
       " 'game': [101, 112, 114, 118, 119, 121, 123],\n",
       " 'gamification': [116, 120],\n",
       " 'general': [18, 21],\n",
       " 'geriatrician': [59],\n",
       " 'geriatricspecific': [55],\n",
       " 'gids': [109],\n",
       " 'grade': [9],\n",
       " 'group': [40],\n",
       " 'hand': [42],\n",
       " 'health': [33, 110, 111, 112, 126],\n",
       " 'healthcare': [121],\n",
       " 'healthy': [47, 118],\n",
       " 'heart': [44],\n",
       " 'hebt': [108],\n",
       " 'hemodynamics': [3],\n",
       " 'herd': [81],\n",
       " 'hhv6': [51],\n",
       " 'high': [29, 66],\n",
       " 'highrisk': [26],\n",
       " 'hiv2': [66],\n",
       " 'ho': [115, 117],\n",
       " 'host': [60],\n",
       " 'housing': [38],\n",
       " 'human': [70, 88],\n",
       " 'hyperactivity': [114],\n",
       " 'hypertension': [24, 27],\n",
       " 'identification': [1],\n",
       " 'identify': [18],\n",
       " 'ii': [58],\n",
       " 'il7r': [54],\n",
       " 'image': [29, 30, 42, 47, 50],\n",
       " 'immune': [52, 65, 66, 73, 90],\n",
       " 'immunity': [63, 81, 91, 93],\n",
       " 'immunological': [92],\n",
       " 'immunomodulating': [63],\n",
       " 'immunorejuvenation': [97],\n",
       " 'immunosenescence': [75, 81, 82, 85, 92],\n",
       " 'immunosenesence': [83],\n",
       " 'immunotherapy': [83],\n",
       " 'implementation': [33],\n",
       " 'implication': [85],\n",
       " 'importance': [12],\n",
       " 'important': [72],\n",
       " 'improve': [27, 102, 110],\n",
       " 'increase': [44, 53],\n",
       " 'index': [34],\n",
       " 'individual': [89, 93, 94, 103],\n",
       " 'induces': [62],\n",
       " 'infection': [51, 55, 59, 60, 66, 72],\n",
       " 'infectious': [88],\n",
       " 'influence': [54],\n",
       " 'influenza': [71, 79, 93, 96],\n",
       " 'influenzavaccine': [89],\n",
       " 'infrared': [26],\n",
       " 'inhibition': [62],\n",
       " 'innate': [63],\n",
       " 'innovative': [28, 33, 43, 44],\n",
       " 'insight': [3],\n",
       " 'interfilter': [74],\n",
       " 'interleukin': [86],\n",
       " 'interleukin7': [97],\n",
       " 'interval': [36],\n",
       " 'intervention': [52, 110],\n",
       " 'intestinal': [86],\n",
       " 'intra': [74],\n",
       " 'irregular': [28],\n",
       " 'isrctn13301188': [6],\n",
       " 'iterative': [110],\n",
       " 'jamais': [76],\n",
       " 'japanese': [115, 117],\n",
       " 'je': [108],\n",
       " 'kidney': [115, 117],\n",
       " 'kinetics': [66, 71],\n",
       " 'kj': [115, 117],\n",
       " 'knowhow': [22],\n",
       " 'knowledge': [22],\n",
       " 'la': [80],\n",
       " 'labrador': [54],\n",
       " 'large': [113],\n",
       " 'laser': [42],\n",
       " 'le': [76],\n",
       " 'learn': [1, 10, 89],\n",
       " 'learnt': [111],\n",
       " 'lesson': [111],\n",
       " 'let': [120],\n",
       " 'level': [103],\n",
       " 'lifestyle': [118],\n",
       " 'light': [19],\n",
       " 'limmunosénescence': [84],\n",
       " 'literature': [112, 113],\n",
       " 'load': [66],\n",
       " 'longevity': [61, 99],\n",
       " 'look': [56],\n",
       " 'low': [13],\n",
       " 'lymphocyte': [62, 71],\n",
       " 'main': [92],\n",
       " 'management': [2, 8, 35, 106, 107],\n",
       " 'manual': [78],\n",
       " 'many': [32],\n",
       " 'markage': [64],\n",
       " 'maternal': [86],\n",
       " 'maze': [101],\n",
       " 'measure': [12, 23, 42, 74, 78],\n",
       " 'measurement': [7, 11, 37, 44],\n",
       " 'medical': [50],\n",
       " 'medicine': [19, 30],\n",
       " 'meeting': [57],\n",
       " 'mental': [126],\n",
       " 'metaanalysis': [112],\n",
       " 'metallothioneins': [99],\n",
       " 'method': [15, 46, 115, 117],\n",
       " 'microrna': [54],\n",
       " 'microvascular': [40],\n",
       " 'middelbare': [108],\n",
       " 'milk': [86],\n",
       " 'minigames': [122],\n",
       " 'mixed': [62],\n",
       " 'mixedmethod': [2, 8, 106, 107],\n",
       " 'mobile': [110],\n",
       " 'model': [48, 70, 88],\n",
       " 'moderate': [104],\n",
       " 'moderately': [125],\n",
       " 'modulates': [86],\n",
       " 'monitoring': [25, 55, 69],\n",
       " 'mood': [51],\n",
       " 'motion': [69],\n",
       " 'multicenter': [42],\n",
       " 'multicentre': [26],\n",
       " 'multidisciplinary': [111, 118],\n",
       " 'multimodal': [27],\n",
       " 'multisite': [7, 23, 31, 34, 36, 43, 44],\n",
       " 'naar': [108],\n",
       " 'nailfold': [32, 49],\n",
       " 'naive': [87],\n",
       " 'natural': [88],\n",
       " 'need': [20, 55, 57, 81, 115, 117, 126],\n",
       " 'negotiate': [33],\n",
       " 'network': [105],\n",
       " 'neuropathy': [29],\n",
       " 'noise': [46],\n",
       " 'noninvasive': [41],\n",
       " 'non‐autistic': [105],\n",
       " 'notepad': [6],\n",
       " 'novel': [6, 41, 45, 46, 47],\n",
       " 'nurse': [34],\n",
       " 'nutritional': [88],\n",
       " 'obesity': [124],\n",
       " 'obesityrelated': [110],\n",
       " 'objective': [11],\n",
       " 'occurs': [53],\n",
       " 'offspring': [86],\n",
       " 'old': [56, 71, 79, 89, 94, 96],\n",
       " 'open': [122],\n",
       " 'opportunity': [19],\n",
       " 'optic': [19],\n",
       " 'optical': [40, 45],\n",
       " 'optimize': [96],\n",
       " 'outcome': [42, 102, 119],\n",
       " 'output': [54, 61, 94],\n",
       " 'overweight': [124],\n",
       " 'oximeter': [20],\n",
       " 'oximetry': [5],\n",
       " 'oxygen': [40],\n",
       " 'oxygenation': [45],\n",
       " 'pad': [18],\n",
       " 'paediatric': [44],\n",
       " 'palliation': [40],\n",
       " 'paper': [74],\n",
       " 'parameter': [88],\n",
       " 'parent': [126],\n",
       " 'pathogenesis': [92],\n",
       " 'pathology': [66],\n",
       " 'pathway': [33, 65],\n",
       " 'patient': [34, 45, 101, 115, 116, 117, 120, 121],\n",
       " 'people': [29, 56, 105, 126],\n",
       " 'perceive': [103],\n",
       " 'perfusion': [40],\n",
       " 'pergamon': [121],\n",
       " 'peripheral': [6, 7, 9, 10, 16, 21, 34, 35, 39, 41, 43, 48],\n",
       " 'personal': [103],\n",
       " 'personne': [80],\n",
       " 'perturbation': [53],\n",
       " 'pervasive': [116],\n",
       " 'phenomenon': [11, 42],\n",
       " 'phone': [110],\n",
       " 'photoplethysmogram': [3],\n",
       " 'photoplethysmography': [1,\n",
       "  4,\n",
       "  7,\n",
       "  10,\n",
       "  12,\n",
       "  13,\n",
       "  14,\n",
       "  15,\n",
       "  16,\n",
       "  17,\n",
       "  23,\n",
       "  25,\n",
       "  28,\n",
       "  31,\n",
       "  34,\n",
       "  36,\n",
       "  39,\n",
       "  43,\n",
       "  44,\n",
       "  46],\n",
       " 'photoplethysmographybased': [27],\n",
       " 'pilot': [11, 40, 45, 87, 101],\n",
       " 'pitch': [4],\n",
       " 'pivotal': [66],\n",
       " 'planit': [123],\n",
       " 'platform': [2, 8, 106, 107, 116, 121],\n",
       " 'play': [120],\n",
       " 'played': [93],\n",
       " 'podiatric': [29],\n",
       " 'polymorphism': [54],\n",
       " 'pool': [87],\n",
       " 'population': [81],\n",
       " 'posttranscriptional': [54],\n",
       " 'power': [19],\n",
       " 'ppg': [15, 22],\n",
       " 'ppgsynth': [28],\n",
       " 'practice': [18, 21, 68],\n",
       " 'practitioner': [41],\n",
       " 'praktijk': [109],\n",
       " 'preference': [34, 41],\n",
       " 'preliminary': [2, 8, 106, 107],\n",
       " 'pressure': [25, 31, 34],\n",
       " 'preterm': [125],\n",
       " 'prevent': [72],\n",
       " 'prevention': [26, 50],\n",
       " 'primary': [7, 33, 35, 41],\n",
       " 'problem': [115, 117, 125],\n",
       " 'processing': [17],\n",
       " 'professional': [109, 121],\n",
       " 'programme': [85],\n",
       " 'promote': [118],\n",
       " 'proof': [39],\n",
       " 'proofofconcept': [1, 10],\n",
       " 'prospective': [7],\n",
       " 'protection': [66, 96],\n",
       " 'protocol': [126],\n",
       " 'provoque': [76],\n",
       " 'publiclyavailable': [5],\n",
       " 'pulse': [5, 6, 7, 12, 20, 23, 36, 39, 43],\n",
       " 'purification': [78],\n",
       " 'purkinje': [51],\n",
       " 'qpcr': [78],\n",
       " 'qualitative': [34, 35, 57, 58, 115, 117],\n",
       " 'quality': [22],\n",
       " 'quantify': [36, 43],\n",
       " 'questionnaire': [18],\n",
       " 'qui': [76],\n",
       " 'randomize': [119],\n",
       " 'rate': [37],\n",
       " 'ratio': [74],\n",
       " 'raynauds': [11, 42],\n",
       " 'real': [87],\n",
       " 'recent': [37],\n",
       " 'receptor': [53],\n",
       " 'recipient': [44],\n",
       " 'recommend': [67],\n",
       " 'recommendation': [31],\n",
       " 'reduction': [46],\n",
       " 'regeneration': [65],\n",
       " 'register': [21],\n",
       " 'regular': [28],\n",
       " 'regulation': [54],\n",
       " 'regulatory': [62],\n",
       " 'related': [42],\n",
       " 'relation': [125],\n",
       " 'reliability': [18, 42, 47],\n",
       " 'renal': [102],\n",
       " 'repertoire': [53],\n",
       " 'replacement': [82],\n",
       " 'reporting': [9],\n",
       " 'reproducibility': [74],\n",
       " 'reprogramming': [82],\n",
       " 'research': [111],\n",
       " 'researcher': [22],\n",
       " 'resistance': [60],\n",
       " 'respiratory': [37, 69],\n",
       " 'response': [42, 63, 71, 95, 99],\n",
       " 'responsiveness': [68],\n",
       " 'restoration': [82],\n",
       " 'restore': [52],\n",
       " 'rethink': [81],\n",
       " 'retriever': [54],\n",
       " 'reversal': [98],\n",
       " 'reverse': [75],\n",
       " 'review': [3, 24, 48, 102, 112, 126],\n",
       " 'risetime': [23],\n",
       " 'risk': [29, 124],\n",
       " 'role': [66, 91, 92, 93, 104, 105],\n",
       " 'rr': [36],\n",
       " 'sample': [74, 78, 87],\n",
       " 'satisfaction': [123],\n",
       " 'saturation': [40],\n",
       " 'sauronsnous': [76],\n",
       " 'schedule': [81],\n",
       " 'school': [108],\n",
       " 'sclerosis': [42, 45],\n",
       " 'search': [113],\n",
       " 'seasonal': [88],\n",
       " 'selective': [125],\n",
       " 'senescence': [73, 90],\n",
       " 'sense': [1],\n",
       " 'sensor': [38],\n",
       " 'serious': [101, 114, 118, 119, 121, 123],\n",
       " 'shift': [12],\n",
       " 'side': [98],\n",
       " 'signal': [4, 14, 17, 22, 46, 65],\n",
       " 'similarity': [113],\n",
       " 'simple': [39, 70],\n",
       " 'singleblind': [26],\n",
       " 'singlesite': [25],\n",
       " 'sirt1': [62],\n",
       " 'site': [12],\n",
       " 'skill': [125],\n",
       " 'skin': [11],\n",
       " 'slowpaced': [36],\n",
       " 'snow': [77],\n",
       " 'sociaal': [109],\n",
       " 'solution': [111],\n",
       " 'solve': [115, 117],\n",
       " 'specific': [56],\n",
       " 'speckle': [42],\n",
       " 'spectrophotometry': [40, 45],\n",
       " 'spectroscopy': [45],\n",
       " 'spot': [74, 78, 87],\n",
       " 'standardise': [9],\n",
       " 'standardization': [12],\n",
       " 'start': [77],\n",
       " 'stateoftheart': [15],\n",
       " 'status': [60],\n",
       " 'stiffness': [44],\n",
       " 'strike': [20],\n",
       " 'student': [22],\n",
       " 'study': [1,\n",
       "  2,\n",
       "  8,\n",
       "  10,\n",
       "  11,\n",
       "  21,\n",
       "  34,\n",
       "  35,\n",
       "  39,\n",
       "  40,\n",
       "  42,\n",
       "  45,\n",
       "  87,\n",
       "  99,\n",
       "  101,\n",
       "  106,\n",
       "  107,\n",
       "  110],\n",
       " 'successful': [33],\n",
       " 'suicidal': [105],\n",
       " 'supplementation': [62, 99],\n",
       " 'support': [2, 8, 103, 104, 106, 107, 121],\n",
       " 'sustain': [125],\n",
       " 'symptom': [103],\n",
       " 'symptomatic': [18],\n",
       " 'synthesis': [17],\n",
       " 'synthesize': [28],\n",
       " 'system': [9, 47, 70, 120],\n",
       " 'systematic': [48, 55, 102, 112, 126],\n",
       " 'systemic': [42, 45],\n",
       " 'tcell': [66, 86, 87],\n",
       " 'technique': [39, 48, 115, 117],\n",
       " 'technology': [4, 14, 31, 33, 37],\n",
       " 'telehealthcare': [57, 58],\n",
       " 'temperature': [11, 47],\n",
       " 'theory‐driven': [105],\n",
       " 'thermal': [29, 30, 47, 50],\n",
       " 'thermography': [26, 42],\n",
       " 'thought': [105],\n",
       " 'thymic': [54, 61, 88, 94, 98],\n",
       " 'thymus': [91],\n",
       " 'time': [12],\n",
       " 'timepcr': [87],\n",
       " 'timing': [43],\n",
       " 'tissue': [40, 45],\n",
       " 'toolbox': [28],\n",
       " 'towards': [70],\n",
       " 'trace': [94],\n",
       " 'transfuse': [71],\n",
       " 'translate': [63, 122],\n",
       " 'translation': [22],\n",
       " 'transplant': [44, 102, 115, 117],\n",
       " 'treatment': [98, 115, 117, 119],\n",
       " 'trec': [74, 78],\n",
       " 'trial': [26, 119],\n",
       " 'tt': [117],\n",
       " 'u': [59],\n",
       " 'uk': [21],\n",
       " 'ulcer': [26, 29],\n",
       " 'ulceration': [50],\n",
       " 'ultrasound': [9],\n",
       " 'understood': [60],\n",
       " 'undertake': [70],\n",
       " 'uptake': [58],\n",
       " 'usability': [2, 8, 106, 107],\n",
       " 'use': [24, 40, 41, 45, 48, 115, 117],\n",
       " 'user': [101, 123],\n",
       " 'vaccination': [56, 67, 73, 85, 95, 100],\n",
       " 'vaccine': [63, 68, 79, 81, 89, 93],\n",
       " 'vaccins': [80],\n",
       " 'validation': [9],\n",
       " 'validity': [42],\n",
       " 'variability': [13, 29, 43],\n",
       " 'vascagenet': [3],\n",
       " 'vascular': [3, 16, 19, 40],\n",
       " 'versus': [66],\n",
       " 'viability': [45],\n",
       " 'videocapillaroscopy': [49],\n",
       " 'vieillissement': [76],\n",
       " 'viral': [66],\n",
       " 'virus': [55, 59],\n",
       " 'visit': [29],\n",
       " 'vitamin': [60, 63, 72],\n",
       " 'voor': [109],\n",
       " 'waveform': [28],\n",
       " 'welzijn': [109],\n",
       " 'werk': [109],\n",
       " 'wetenschap': [109],\n",
       " 'whole': [87],\n",
       " 'wild': [120],\n",
       " 'young': [71, 87, 102, 115, 116, 117, 120, 126],\n",
       " 'zinc': [62, 99],\n",
       " 'zincage': [99],\n",
       " 'zorg': [109],\n",
       " 'âgée': [80],\n",
       " '’': [34, 115, 117],\n",
       " '“': [123],\n",
       " '”': [123]}"
      ]
     },
     "execution_count": 24,
     "metadata": {},
     "output_type": "execute_result"
    }
   ],
   "source": [
    "data"
   ]
  },
  {
   "cell_type": "markdown",
   "id": "simple-paintball",
   "metadata": {},
   "source": [
    "## 3.  Query Processor"
   ]
  },
  {
   "cell_type": "code",
   "execution_count": 25,
   "id": "vanilla-football",
   "metadata": {
    "ExecuteTime": {
     "end_time": "2021-08-01T11:02:51.119226Z",
     "start_time": "2021-08-01T11:02:51.112657Z"
    }
   },
   "outputs": [],
   "source": [
    "def demonstrate_query_processing():\n",
    "    sample = input('Enter Search Terms: ')\n",
    "    processed_query = tp1(sample)\n",
    "    #print(f'User Search Query: {sample}')\n",
    "    print(f'Processed Search Query: {processed_query}')\n",
    "    return processed_query\n",
    "    \n",
    "#demonstrate_query_processing()"
   ]
  },
  {
   "cell_type": "markdown",
   "id": "italian-turkish",
   "metadata": {},
   "source": [
    "### 3.1.  Split Query into individual terms"
   ]
  },
  {
   "cell_type": "code",
   "execution_count": 26,
   "id": "handed-client",
   "metadata": {
    "ExecuteTime": {
     "end_time": "2021-08-01T11:03:01.618023Z",
     "start_time": "2021-08-01T11:02:59.088852Z"
    }
   },
   "outputs": [
    {
     "name": "stdout",
     "output_type": "stream",
     "text": [
      "Enter Search Terms: heart\n",
      "Processed Search Query: heart \n",
      "Split Query: ['heart']\n"
     ]
    }
   ],
   "source": [
    "def split_query(terms):\n",
    "    each = tp1(terms)\n",
    "    return each.split()\n",
    "\n",
    "dqp = demonstrate_query_processing()\n",
    "dqp\n",
    "print(f'Split Query: {split_query(dqp)}')"
   ]
  },
  {
   "cell_type": "markdown",
   "id": "loved-postage",
   "metadata": {},
   "source": [
    "### 3.2.  Boolean Functionalities"
   ]
  },
  {
   "cell_type": "code",
   "execution_count": 27,
   "id": "ready-denial",
   "metadata": {
    "ExecuteTime": {
     "end_time": "2021-08-01T01:00:26.010007Z",
     "start_time": "2021-08-01T01:00:26.004950Z"
    }
   },
   "outputs": [],
   "source": [
    "def union(lists):\n",
    "    union = list(set.union(*map(set, lists)))\n",
    "    union.sort()\n",
    "    return union\n",
    "\n",
    "def intersection(lists):\n",
    "    intersect = list(set.intersection(*map(set, lists)))\n",
    "    intersect.sort()\n",
    "    return intersect"
   ]
  },
  {
   "cell_type": "markdown",
   "id": "circular-distinction",
   "metadata": {},
   "source": [
    "### 3.3. Search Engine Function"
   ]
  },
  {
   "cell_type": "code",
   "execution_count": 28,
   "id": "finite-pottery",
   "metadata": {
    "ExecuteTime": {
     "end_time": "2021-08-01T01:00:26.020938Z",
     "start_time": "2021-08-01T01:00:26.012920Z"
    }
   },
   "outputs": [],
   "source": [
    "def vertical_search_engine(df, query, index=indexes):\n",
    "    query_split = split_query(query)\n",
    "    retrieved = []\n",
    "    for word in query_split:\n",
    "        if word in index.keys():\n",
    "            retrieved.append(index[word])\n",
    "            \n",
    "            \n",
    "    # Ranked Retrieval\n",
    "    if len(retrieved)>0:\n",
    "        high_rank_result = intersection(retrieved)\n",
    "        low_rank_result = union(retrieved) \n",
    "        c = [x for x in low_rank_result if x not in high_rank_result]      \n",
    "        high_rank_result.extend(c)\n",
    "        result = high_rank_result\n",
    "        \n",
    "        final_output = df[df.SN.isin(result)].reset_index(drop=True)\n",
    "    \n",
    "        # Return result in order of Intersection ----> Union\n",
    "        dummy = pd.Series(result, name = 'SN').to_frame()\n",
    "        result = pd.merge(dummy, final_output, on='SN', how = 'left')\n",
    "        \n",
    "    else:\n",
    "        result = 'No result found'\n",
    "    \n",
    "    return result"
   ]
  },
  {
   "cell_type": "code",
   "execution_count": 29,
   "id": "facial-killer",
   "metadata": {
    "ExecuteTime": {
     "end_time": "2021-08-01T01:00:37.508501Z",
     "start_time": "2021-08-01T01:00:26.023723Z"
    }
   },
   "outputs": [
    {
     "name": "stdout",
     "output_type": "stream",
     "text": [
      "Enter your search query: heart\n"
     ]
    },
    {
     "data": {
      "text/html": [
       "<div>\n",
       "<style scoped>\n",
       "    .dataframe tbody tr th:only-of-type {\n",
       "        vertical-align: middle;\n",
       "    }\n",
       "\n",
       "    .dataframe tbody tr th {\n",
       "        vertical-align: top;\n",
       "    }\n",
       "\n",
       "    .dataframe thead th {\n",
       "        text-align: right;\n",
       "    }\n",
       "</style>\n",
       "<table border=\"1\" class=\"dataframe\">\n",
       "  <thead>\n",
       "    <tr style=\"text-align: right;\">\n",
       "      <th></th>\n",
       "      <th>SN</th>\n",
       "      <th>Title</th>\n",
       "      <th>Author</th>\n",
       "      <th>Published</th>\n",
       "      <th>Link</th>\n",
       "    </tr>\n",
       "  </thead>\n",
       "  <tbody>\n",
       "    <tr>\n",
       "      <th>0</th>\n",
       "      <td>44</td>\n",
       "      <td>innovative multisite photoplethysmography meas...</td>\n",
       "      <td>zheng, d.</td>\n",
       "      <td>1 Aug 2018</td>\n",
       "      <td>https://pureportal.coventry.ac.uk/en/publicati...</td>\n",
       "    </tr>\n",
       "  </tbody>\n",
       "</table>\n",
       "</div>"
      ],
      "text/plain": [
       "   SN                                              Title     Author  \\\n",
       "0  44  innovative multisite photoplethysmography meas...  zheng, d.   \n",
       "\n",
       "    Published                                               Link  \n",
       "0  1 Aug 2018  https://pureportal.coventry.ac.uk/en/publicati...  "
      ]
     },
     "execution_count": 29,
     "metadata": {},
     "output_type": "execute_result"
    }
   ],
   "source": [
    "def test_search_engine():\n",
    "    xtest = scraped_db.copy()\n",
    "    query = input(\"Enter your search query: \")\n",
    "    return vertical_search_engine(xtest, query, indexed)\n",
    "    \n",
    "test_search_engine()"
   ]
  },
  {
   "cell_type": "code",
   "execution_count": 30,
   "id": "accredited-crazy",
   "metadata": {
    "ExecuteTime": {
     "end_time": "2021-08-01T11:43:05.137930Z",
     "start_time": "2021-08-01T11:43:05.131660Z"
    }
   },
   "outputs": [],
   "source": [
    "def final_engine(results):\n",
    "    if type(results) != 'list':\n",
    "        return results\n",
    "        #print(results)\n",
    "    else:\n",
    "        for i in range(len(results)):\n",
    "            printout = results.loc[i, :]\n",
    "            #print(printout['Title'])\n",
    "            #print(printout['Author'])\n",
    "            #print(printout['Published'])\n",
    "            #print(printout['Link'])\n",
    "            #print('')"
   ]
  },
  {
   "cell_type": "code",
   "execution_count": 31,
   "id": "urban-astrology",
   "metadata": {
    "ExecuteTime": {
     "end_time": "2021-08-01T11:46:39.943876Z",
     "start_time": "2021-08-01T11:46:39.927460Z"
    }
   },
   "outputs": [
    {
     "data": {
      "text/plain": [
       "'zheng, d.'"
      ]
     },
     "execution_count": 31,
     "metadata": {},
     "output_type": "execute_result"
    }
   ],
   "source": [
    "scraped_db['Author'].iloc[24]"
   ]
  },
  {
   "cell_type": "code",
   "execution_count": 32,
   "id": "speaking-savings",
   "metadata": {
    "ExecuteTime": {
     "end_time": "2021-08-01T11:44:03.697525Z",
     "start_time": "2021-08-01T11:43:54.760859Z"
    }
   },
   "outputs": [
    {
     "name": "stdout",
     "output_type": "stream",
     "text": [
      "Enter your search query: heart\n"
     ]
    },
    {
     "data": {
      "text/html": [
       "<div>\n",
       "<style scoped>\n",
       "    .dataframe tbody tr th:only-of-type {\n",
       "        vertical-align: middle;\n",
       "    }\n",
       "\n",
       "    .dataframe tbody tr th {\n",
       "        vertical-align: top;\n",
       "    }\n",
       "\n",
       "    .dataframe thead th {\n",
       "        text-align: right;\n",
       "    }\n",
       "</style>\n",
       "<table border=\"1\" class=\"dataframe\">\n",
       "  <thead>\n",
       "    <tr style=\"text-align: right;\">\n",
       "      <th></th>\n",
       "      <th>SN</th>\n",
       "      <th>Title</th>\n",
       "      <th>Author</th>\n",
       "      <th>Published</th>\n",
       "      <th>Link</th>\n",
       "    </tr>\n",
       "  </thead>\n",
       "  <tbody>\n",
       "    <tr>\n",
       "      <th>0</th>\n",
       "      <td>44</td>\n",
       "      <td>innovative multisite photoplethysmography meas...</td>\n",
       "      <td>zheng, d.</td>\n",
       "      <td>1 Aug 2018</td>\n",
       "      <td>https://pureportal.coventry.ac.uk/en/publicati...</td>\n",
       "    </tr>\n",
       "  </tbody>\n",
       "</table>\n",
       "</div>"
      ],
      "text/plain": [
       "   SN                                              Title     Author  \\\n",
       "0  44  innovative multisite photoplethysmography meas...  zheng, d.   \n",
       "\n",
       "    Published                                               Link  \n",
       "0  1 Aug 2018  https://pureportal.coventry.ac.uk/en/publicati...  "
      ]
     },
     "execution_count": 32,
     "metadata": {},
     "output_type": "execute_result"
    }
   ],
   "source": [
    "final_engine(test_search_engine())"
   ]
  },
  {
   "cell_type": "markdown",
   "id": "first-toilet",
   "metadata": {},
   "source": [
    "## 4. Schedule Crawler for every week\n",
    "\n",
    "To demonstrate a weekly scheduled crawling, the following parameters are defined:\n",
    "\n",
    "* `interval` : Represents number of days in reality\n"
   ]
  },
  {
   "cell_type": "code",
   "execution_count": 1,
   "id": "cutting-prayer",
   "metadata": {
    "ExecuteTime": {
     "end_time": "2021-08-01T01:05:57.578325Z",
     "start_time": "2021-08-01T01:00:37.523485Z"
    }
   },
   "outputs": [
    {
     "ename": "NameError",
     "evalue": "name 'scrape' is not defined",
     "output_type": "error",
     "traceback": [
      "\u001b[1;31m---------------------------------------------------------------------------\u001b[0m",
      "\u001b[1;31mNameError\u001b[0m                                 Traceback (most recent call last)",
      "\u001b[1;32m~\\AppData\\Local\\Temp\\ipykernel_17340\\1420506650.py\u001b[0m in \u001b[0;36m<module>\u001b[1;34m\u001b[0m\n\u001b[0;32m      2\u001b[0m \u001b[0minterval\u001b[0m \u001b[1;33m=\u001b[0m \u001b[1;36m180\u001b[0m\u001b[1;33m\u001b[0m\u001b[1;33m\u001b[0m\u001b[0m\n\u001b[0;32m      3\u001b[0m \u001b[1;32mwhile\u001b[0m \u001b[0mdays\u001b[0m \u001b[1;33m<=\u001b[0m \u001b[1;36m1\u001b[0m\u001b[1;33m:\u001b[0m\u001b[1;33m\u001b[0m\u001b[1;33m\u001b[0m\u001b[0m\n\u001b[1;32m----> 4\u001b[1;33m     \u001b[0mscrape\u001b[0m\u001b[1;33m(\u001b[0m\u001b[0mmx\u001b[0m\u001b[1;33m)\u001b[0m\u001b[1;33m\u001b[0m\u001b[1;33m\u001b[0m\u001b[0m\n\u001b[0m\u001b[0;32m      5\u001b[0m     \u001b[0mprint\u001b[0m\u001b[1;33m(\u001b[0m\u001b[1;34mf\"Crawled at {datetime.datetime.now().strftime('%Y-%m-%d %H:%M:%S')}\"\u001b[0m\u001b[1;33m)\u001b[0m\u001b[1;33m\u001b[0m\u001b[1;33m\u001b[0m\u001b[0m\n\u001b[0;32m      6\u001b[0m     \u001b[0mprint\u001b[0m\u001b[1;33m(\u001b[0m\u001b[1;34mf'Next crawl scheduled after {interval} days'\u001b[0m\u001b[1;33m)\u001b[0m\u001b[1;33m\u001b[0m\u001b[1;33m\u001b[0m\u001b[0m\n",
      "\u001b[1;31mNameError\u001b[0m: name 'scrape' is not defined"
     ]
    }
   ],
   "source": [
    "days = 0\n",
    "interval = 180\n",
    "while days <= 1:\n",
    "    remove_data_from_csv(r'database.csv')\n",
    "    update_csv(database=r'database.csv')\n",
    "    scrape(mx)\n",
    "    print(f\"Crawled at {datetime.datetime.now().strftime('%Y-%m-%d %H:%M:%S')}\")\n",
    "    print(f'Next crawl scheduled after {interval} days')\n",
    "    time.sleep(interval)\n",
    "    days = days + 1"
   ]
  },
  {
   "cell_type": "code",
   "execution_count": null,
   "id": "lesser-biotechnology",
   "metadata": {},
   "outputs": [],
   "source": []
  },
  {
   "cell_type": "markdown",
   "id": "processed-movement",
   "metadata": {},
   "source": [
    "# 5. GUI"
   ]
  },
  {
   "cell_type": "code",
   "execution_count": 33,
   "id": "patient-victim",
   "metadata": {
    "ExecuteTime": {
     "end_time": "2021-08-01T01:15:13.914499Z",
     "start_time": "2021-08-01T01:15:13.885800Z"
    }
   },
   "outputs": [],
   "source": [
    "from tkinter import *\n",
    "from tkinter import messagebox\n",
    "from PIL import Image, ImageTk \n",
    "from tkinter import scrolledtext\n",
    "from pandastable import Table, TableModel\n",
    "from contextlib import suppress\n",
    "import warnings\n",
    "warnings.filterwarnings('ignore')\n",
    "\n",
    "\n",
    "\n",
    "image1 = Image.open('coventry-university-logo.png')\n",
    "resized_image1 = image1.resize((500,300), Image.ANTIALIAS)\n",
    "\n",
    "def new_gui(image1):\n",
    "    window = Tk()\n",
    "    window.configure(bg='#919492')\n",
    "    window.title(\"Coventry University- Search Engine\")\n",
    "    window.geometry('1100x600')\n",
    "    \n",
    "    lbl = Label(window, text=\"Coventry University-Search Engine\",bg=\"#919492\", font=(\"Arial Bold\", 30), padx=5, pady=5)\n",
    "    lbl.grid(column=1, row=0)\n",
    "    \n",
    "    lbl2 = Label(window, text=\"Enter your Query here to search:\", bg=\"#919492\",font=(\"Arial\", 15), padx=5, pady=5)\n",
    "    lbl2.grid(column=0, row=1)\n",
    "    \n",
    "    \n",
    "    img = ImageTk.PhotoImage(image1)\n",
    "    \n",
    "    lbl3 = Label(image=img, bg='#919492')\n",
    "    lbl3.image = img\n",
    "    lbl3.grid(column=1, row=3, padx=5, pady=5)\n",
    "    \n",
    "    \n",
    "    \n",
    "    query = Entry(window,font=(\"Arial\", 12), width=50)\n",
    "    query.grid(column=1, row=1,  padx=5, pady=5)\n",
    "    \n",
    "    results = Canvas(window, height=30, width=250)\n",
    "    results.grid(column=1, row=2, padx=5, pady=5)\n",
    "    \n",
    "    # Entry\n",
    "    def getInputBoxValue():\n",
    "        userInput = query.get()\n",
    "        return userInput\n",
    "\n",
    "    \n",
    "    # Button\n",
    "    def clicked():\n",
    "        search()\n",
    "        #pass\n",
    "        \n",
    "    def no_result():\n",
    "        messagebox.showwarning(\"Warning\", \"No results found. Please Try With another Query\")\n",
    "        \n",
    "    \n",
    "    def search():\n",
    "        xtest = scraped_db.copy()\n",
    "        q = query.get()\n",
    "        f = Frame(window)\n",
    "        df = vertical_search_engine(xtest, q, indexed)\n",
    "        if type(df) == str:\n",
    "            no_result()\n",
    "        else:\n",
    "            pt = Table(results)\n",
    "            try:\n",
    "                table = pt = Table(results, dataframe=df)\n",
    "                pt.show()\n",
    "            except AttributeError:\n",
    "                pass\n",
    "            \n",
    "    def close_window():\n",
    "        if messagebox.askokcancel(\"Quit\", \"You Sure want to Quit Programme?\"):\n",
    "            window.destroy()\n",
    "        \n",
    "    \n",
    "    btn = Button(window, text=\"Search\",bg=\"#f2f5f3\",font=(\"Arial\", 20), command=clicked)\n",
    "    btn.grid(column=2, row=1)\n",
    "    \n",
    "    \n",
    "\n",
    "    window.protocol(\"WM_DELETE_WINDOW\", close_window)       \n",
    "    window.mainloop()"
   ]
  },
  {
   "cell_type": "code",
   "execution_count": 36,
   "id": "ahead-spray",
   "metadata": {
    "ExecuteTime": {
     "end_time": "2021-08-01T23:14:02.698938Z",
     "start_time": "2021-08-01T23:14:02.696390Z"
    }
   },
   "outputs": [],
   "source": [
    "new_gui(resized_image1)"
   ]
  },
  {
   "cell_type": "code",
   "execution_count": null,
   "id": "worst-butterfly",
   "metadata": {},
   "outputs": [],
   "source": []
  }
 ],
 "metadata": {
  "kernelspec": {
   "display_name": "Python 3 (ipykernel)",
   "language": "python",
   "name": "python3"
  },
  "language_info": {
   "codemirror_mode": {
    "name": "ipython",
    "version": 3
   },
   "file_extension": ".py",
   "mimetype": "text/x-python",
   "name": "python",
   "nbconvert_exporter": "python",
   "pygments_lexer": "ipython3",
   "version": "3.9.7"
  },
  "varInspector": {
   "cols": {
    "lenName": 16,
    "lenType": 16,
    "lenVar": 40
   },
   "kernels_config": {
    "python": {
     "delete_cmd_postfix": "",
     "delete_cmd_prefix": "del ",
     "library": "var_list.py",
     "varRefreshCmd": "print(var_dic_list())"
    },
    "r": {
     "delete_cmd_postfix": ") ",
     "delete_cmd_prefix": "rm(",
     "library": "var_list.r",
     "varRefreshCmd": "cat(var_dic_list()) "
    }
   },
   "types_to_exclude": [
    "module",
    "function",
    "builtin_function_or_method",
    "instance",
    "_Feature"
   ],
   "window_display": false
  }
 },
 "nbformat": 4,
 "nbformat_minor": 5
}
