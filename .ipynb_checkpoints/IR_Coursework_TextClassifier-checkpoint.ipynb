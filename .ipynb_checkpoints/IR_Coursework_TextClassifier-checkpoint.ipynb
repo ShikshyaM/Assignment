{
 "cells": [
  {
   "cell_type": "markdown",
   "id": "steady-local",
   "metadata": {},
   "source": [
    "# Information Retrieval Coursework (7071CEM)\n",
    "\n",
    "Task:\n",
    "Whether as a separate program or integrated with search engine, a subject classification functionality is needed. More specifically, the input is a scientific text and the output is its subject among zero or more of the cases: Health, Engineering, Business, Art.\n",
    "\n",
    "This program implements a text classifier using a NLP techniques and a selection of classification algorithms.\n",
    "\n",
    "Based on the datasets sourced, the three chosen classifications are:\n",
    "\n",
    "* Business\n",
    "* Engineering\n",
    "* Art"
   ]
  },
  {
   "cell_type": "markdown",
   "id": "pressed-gateway",
   "metadata": {},
   "source": [
    "## Imports"
   ]
  },
  {
   "cell_type": "code",
   "execution_count": 6,
   "id": "second-memphis",
   "metadata": {
    "ExecuteTime": {
     "end_time": "2021-08-01T01:59:41.760225Z",
     "start_time": "2021-08-01T01:59:41.515144Z"
    }
   },
   "outputs": [],
   "source": [
    "import os\n",
    "import string\n",
    "\n",
    "# Data Handling and Processing\n",
    "import pandas as pd\n",
    "import numpy as np\n",
    "import re\n",
    "from scipy import interp\n",
    "\n",
    "\n",
    "# Visualuzation\n",
    "import matplotlib.pyplot as plt\n",
    "%matplotlib inline\n",
    "%config InlineBackend.figure_format='retina'\n",
    "\n",
    "# NLP Packages\n",
    "from nltk.tokenize import word_tokenize\n",
    "from nltk.corpus import stopwords, wordnet\n",
    "from nltk.stem import WordNetLemmatizer\n",
    "from nltk import pos_tag\n",
    "import nltk\n",
    "from joblib import dump, load\n",
    "\n",
    "\n",
    "# ML Models\n",
    "from sklearn.linear_model import LogisticRegression\n",
    "from sklearn.naive_bayes import MultinomialNB\n",
    "from sklearn.linear_model import RidgeClassifier\n",
    "from sklearn.tree import DecisionTreeClassifier\n",
    "\n",
    "# Scikit Learn packages\n",
    "from sklearn.base import clone\n",
    "from sklearn.preprocessing import label_binarize, LabelEncoder\n",
    "from sklearn.feature_extraction.text import TfidfVectorizer, CountVectorizer\n",
    "from sklearn.model_selection import KFold, cross_validate, cross_val_score, train_test_split\n",
    "from sklearn.pipeline import Pipeline\n",
    "from sklearn import metrics\n",
    "from sklearn.metrics import roc_curve, auc\n"
   ]
  },
  {
   "cell_type": "markdown",
   "id": "indonesian-postage",
   "metadata": {},
   "source": [
    "# Load Datasets"
   ]
  },
  {
   "cell_type": "code",
   "execution_count": 1,
   "id": "hired-programmer",
   "metadata": {
    "ExecuteTime": {
     "end_time": "2021-08-01T01:38:04.931143Z",
     "start_time": "2021-08-01T01:38:04.913935Z"
    }
   },
   "outputs": [],
   "source": [
    "# business_path = 'bbc/business/'\n",
    "# tech_path = 'bbc/tech/'\n",
    "# arts_path = 'bbc/entertainment/'\n",
    "# will be loaded from news_df.csv"
   ]
  },
  {
   "cell_type": "code",
   "execution_count": 7,
   "id": "familiar-history",
   "metadata": {
    "ExecuteTime": {
     "end_time": "2021-08-01T01:42:07.905926Z",
     "start_time": "2021-08-01T01:42:07.816237Z"
    }
   },
   "outputs": [
    {
     "data": {
      "text/html": [
       "<div>\n",
       "<style scoped>\n",
       "    .dataframe tbody tr th:only-of-type {\n",
       "        vertical-align: middle;\n",
       "    }\n",
       "\n",
       "    .dataframe tbody tr th {\n",
       "        vertical-align: top;\n",
       "    }\n",
       "\n",
       "    .dataframe thead th {\n",
       "        text-align: right;\n",
       "    }\n",
       "</style>\n",
       "<table border=\"1\" class=\"dataframe\">\n",
       "  <thead>\n",
       "    <tr style=\"text-align: right;\">\n",
       "      <th></th>\n",
       "      <th>Text</th>\n",
       "      <th>Class</th>\n",
       "    </tr>\n",
       "  </thead>\n",
       "  <tbody>\n",
       "  </tbody>\n",
       "</table>\n",
       "</div>"
      ],
      "text/plain": [
       "Empty DataFrame\n",
       "Columns: [Text, Class]\n",
       "Index: []"
      ]
     },
     "execution_count": 7,
     "metadata": {},
     "output_type": "execute_result"
    }
   ],
   "source": [
    "text_df = pd.DataFrame(columns=['Text','Class'])\n",
    "# text_df.to_csv('news_df.csv')\n",
    "text_df.head()"
   ]
  },
  {
   "cell_type": "code",
   "execution_count": 1,
   "id": "german-confidence",
   "metadata": {
    "ExecuteTime": {
     "end_time": "2021-08-01T01:45:35.332747Z",
     "start_time": "2021-08-01T01:43:42.973811Z"
    }
   },
   "outputs": [],
   "source": [
    "# Function to read the text files into one dataframe\n",
    "def readfiles_to_dataframe(directory, category):\n",
    "    arr = os.listdir(directory)\n",
    "    strtext = \".txt\"\n",
    "    for textfile in arr:\n",
    "        if textfile.__contains__(strtext):\n",
    "            fileObject = open(directory + textfile, \"r\")\n",
    "            data = fileObject.read()\n",
    "            ouvert = pd.read_csv('news_df.csv', index_col=\"Unnamed: 0\")\n",
    "            ouvert = ouvert.append({\"Class\": str(category), \"Text\": data},ignore_index=True)\n",
    "            ouvert.to_csv('news_df.csv')   \n",
    "\n",
    "# Define categories             \n",
    "# paths = [business_path, tech_path, arts_path]\n",
    "# categories = ['business', 'tech', 'arts']\n",
    "\n",
    "\n",
    "# # Call readfile function\n",
    "# for path,category in zip(paths, categories):\n",
    "#     readfiles_to_dataframe(path, category)"
   ]
  },
  {
   "cell_type": "code",
   "execution_count": 5,
   "id": "flush-consolidation",
   "metadata": {
    "ExecuteTime": {
     "end_time": "2021-08-01T01:45:56.821008Z",
     "start_time": "2021-08-01T01:45:56.763186Z"
    }
   },
   "outputs": [
    {
     "ename": "NameError",
     "evalue": "name 'pd' is not defined",
     "output_type": "error",
     "traceback": [
      "\u001b[1;31m---------------------------------------------------------------------------\u001b[0m",
      "\u001b[1;31mNameError\u001b[0m                                 Traceback (most recent call last)",
      "\u001b[1;32mC:\\Users\\SERVEN~1\\AppData\\Local\\Temp/ipykernel_3392/2916193446.py\u001b[0m in \u001b[0;36m<module>\u001b[1;34m\u001b[0m\n\u001b[1;32m----> 1\u001b[1;33m \u001b[0mfull_df\u001b[0m \u001b[1;33m=\u001b[0m \u001b[0mpd\u001b[0m\u001b[1;33m.\u001b[0m\u001b[0mread_csv\u001b[0m\u001b[1;33m(\u001b[0m\u001b[1;34m'news_df.csv'\u001b[0m\u001b[1;33m)\u001b[0m\u001b[1;33m\u001b[0m\u001b[1;33m\u001b[0m\u001b[0m\n\u001b[0m\u001b[0;32m      2\u001b[0m \u001b[0mprint\u001b[0m\u001b[1;33m(\u001b[0m\u001b[0mfull_df\u001b[0m\u001b[1;33m.\u001b[0m\u001b[0mshape\u001b[0m\u001b[1;33m)\u001b[0m\u001b[1;33m\u001b[0m\u001b[1;33m\u001b[0m\u001b[0m\n\u001b[0;32m      3\u001b[0m \u001b[0mfull_df\u001b[0m\u001b[1;33m.\u001b[0m\u001b[0mhead\u001b[0m\u001b[1;33m(\u001b[0m\u001b[1;33m)\u001b[0m\u001b[1;33m\u001b[0m\u001b[1;33m\u001b[0m\u001b[0m\n",
      "\u001b[1;31mNameError\u001b[0m: name 'pd' is not defined"
     ]
    }
   ],
   "source": [
    "full_df = pd.read_csv('news_df.csv')\n",
    "print(full_df.shape)\n",
    "full_df.head()"
   ]
  },
  {
   "cell_type": "code",
   "execution_count": null,
   "id": "after-prevention",
   "metadata": {
    "ExecuteTime": {
     "end_time": "2021-08-01T01:46:13.096704Z",
     "start_time": "2021-08-01T01:46:13.039953Z"
    }
   },
   "outputs": [
    {
     "data": {
      "text/html": [
       "<div>\n",
       "<style scoped>\n",
       "    .dataframe tbody tr th:only-of-type {\n",
       "        vertical-align: middle;\n",
       "    }\n",
       "\n",
       "    .dataframe tbody tr th {\n",
       "        vertical-align: top;\n",
       "    }\n",
       "\n",
       "    .dataframe thead th {\n",
       "        text-align: right;\n",
       "    }\n",
       "</style>\n",
       "<table border=\"1\" class=\"dataframe\">\n",
       "  <thead>\n",
       "    <tr style=\"text-align: right;\">\n",
       "      <th></th>\n",
       "      <th>Text</th>\n",
       "      <th>Class</th>\n",
       "    </tr>\n",
       "  </thead>\n",
       "  <tbody>\n",
       "    <tr>\n",
       "      <th>0</th>\n",
       "      <td>UK economy facing 'major risks'\\n\\nThe UK manu...</td>\n",
       "      <td>business</td>\n",
       "    </tr>\n",
       "    <tr>\n",
       "      <th>1</th>\n",
       "      <td>Aids and climate top Davos agenda\\n\\nClimate c...</td>\n",
       "      <td>business</td>\n",
       "    </tr>\n",
       "    <tr>\n",
       "      <th>2</th>\n",
       "      <td>Asian quake hits European shares\\n\\nShares in ...</td>\n",
       "      <td>business</td>\n",
       "    </tr>\n",
       "    <tr>\n",
       "      <th>3</th>\n",
       "      <td>India power shares jump on debut\\n\\nShares in ...</td>\n",
       "      <td>business</td>\n",
       "    </tr>\n",
       "    <tr>\n",
       "      <th>4</th>\n",
       "      <td>Lacroix label bought by US firm\\n\\nLuxury good...</td>\n",
       "      <td>business</td>\n",
       "    </tr>\n",
       "  </tbody>\n",
       "</table>\n",
       "</div>"
      ],
      "text/plain": [
       "                                                Text     Class\n",
       "0  UK economy facing 'major risks'\\n\\nThe UK manu...  business\n",
       "1  Aids and climate top Davos agenda\\n\\nClimate c...  business\n",
       "2  Asian quake hits European shares\\n\\nShares in ...  business\n",
       "3  India power shares jump on debut\\n\\nShares in ...  business\n",
       "4  Lacroix label bought by US firm\\n\\nLuxury good...  business"
      ]
     },
     "execution_count": 6,
     "metadata": {},
     "output_type": "execute_result"
    }
   ],
   "source": [
    "full_df.drop(columns=['Unnamed: 0'], inplace=True)\n",
    "full_df.head()"
   ]
  },
  {
   "cell_type": "markdown",
   "id": "nonprofit-syndication",
   "metadata": {},
   "source": [
    "## 1. Dataset Exploration"
   ]
  },
  {
   "cell_type": "code",
   "execution_count": 4,
   "id": "great-nightlife",
   "metadata": {
    "ExecuteTime": {
     "end_time": "2021-08-01T02:02:06.282040Z",
     "start_time": "2021-08-01T02:02:06.032043Z"
    }
   },
   "outputs": [
    {
     "ename": "NameError",
     "evalue": "name 'full_df' is not defined",
     "output_type": "error",
     "traceback": [
      "\u001b[1;31m---------------------------------------------------------------------------\u001b[0m",
      "\u001b[1;31mNameError\u001b[0m                                 Traceback (most recent call last)",
      "\u001b[1;32mC:\\Users\\SERVEN~1\\AppData\\Local\\Temp/ipykernel_3392/3256096557.py\u001b[0m in \u001b[0;36m<module>\u001b[1;34m\u001b[0m\n\u001b[1;32m----> 1\u001b[1;33m \u001b[0mfull_df\u001b[0m\u001b[1;33m[\u001b[0m\u001b[1;34m'Class'\u001b[0m\u001b[1;33m]\u001b[0m\u001b[1;33m.\u001b[0m\u001b[0mvalue_counts\u001b[0m\u001b[1;33m(\u001b[0m\u001b[1;33m)\u001b[0m\u001b[1;33m.\u001b[0m\u001b[0mplot\u001b[0m\u001b[1;33m(\u001b[0m\u001b[0mkind\u001b[0m\u001b[1;33m=\u001b[0m\u001b[1;34m'bar'\u001b[0m\u001b[1;33m)\u001b[0m\u001b[1;33m\u001b[0m\u001b[1;33m\u001b[0m\u001b[0m\n\u001b[0m\u001b[0;32m      2\u001b[0m \u001b[0mplt\u001b[0m\u001b[1;33m.\u001b[0m\u001b[0mtitle\u001b[0m\u001b[1;33m(\u001b[0m\u001b[1;34m'Number of News articles per Category'\u001b[0m\u001b[1;33m,\u001b[0m \u001b[0msize\u001b[0m\u001b[1;33m=\u001b[0m\u001b[1;36m20\u001b[0m\u001b[1;33m,\u001b[0m \u001b[0mpad\u001b[0m\u001b[1;33m=\u001b[0m\u001b[1;36m20\u001b[0m\u001b[1;33m)\u001b[0m\u001b[1;33m;\u001b[0m\u001b[1;33m\u001b[0m\u001b[1;33m\u001b[0m\u001b[0m\n",
      "\u001b[1;31mNameError\u001b[0m: name 'full_df' is not defined"
     ]
    }
   ],
   "source": [
    "full_df['Class'].value_counts().plot(kind='bar')\n",
    "plt.title('Number of News articles per Category', size=20, pad=20);"
   ]
  },
  {
   "cell_type": "code",
   "execution_count": null,
   "id": "subsequent-hometown",
   "metadata": {
    "ExecuteTime": {
     "end_time": "2021-08-01T02:02:39.543408Z",
     "start_time": "2021-08-01T02:02:39.514242Z"
    }
   },
   "outputs": [
    {
     "data": {
      "text/plain": [
       "Text     0\n",
       "Class    0\n",
       "dtype: int64"
      ]
     },
     "execution_count": 8,
     "metadata": {},
     "output_type": "execute_result"
    }
   ],
   "source": [
    "# Check for missing values\n",
    "full_df.isna().sum()"
   ]
  },
  {
   "cell_type": "markdown",
   "id": "naughty-samba",
   "metadata": {},
   "source": [
    "## 2. Text Preprocessing\n",
    "\n",
    "Here, unwanted parts of the text are removed such as special characters. "
   ]
  },
  {
   "cell_type": "code",
   "execution_count": 2,
   "id": "major-springer",
   "metadata": {
    "ExecuteTime": {
     "end_time": "2021-08-01T02:05:41.825096Z",
     "start_time": "2021-08-01T02:05:41.787802Z"
    }
   },
   "outputs": [],
   "source": [
    "def preprocess(df):\n",
    "    # Remove special characters\n",
    "    df['Text2'] = df['Text'].replace('\\n',' ')\n",
    "    df['Text2'] = df['Text2'].replace('\\r',' ')\n",
    "    \n",
    "    # Remove punctuation signs and lowercase all\n",
    "    df['Text2'] = df['Text2'].str.lower()\n",
    "    df['Text2'] = df['Text2'].str.translate(str.maketrans('', '', string.punctuation))\n",
    "    \n",
    "    \n",
    "    # Remove stop words\n",
    "    stop_words = stopwords.words(\"english\")\n",
    "    lemmatizer = WordNetLemmatizer()\n",
    "    \n",
    "    def fwpt(each):\n",
    "        tag = pos_tag([each])[0][1][0].upper()\n",
    "        hash_tag = {\"N\": wordnet.NOUN,\"R\": wordnet.ADV, \"V\": wordnet.VERB,\"J\": wordnet.ADJ}        \n",
    "        return hash_tag.get(tag, wordnet.NOUN)\n",
    "\n",
    "    \n",
    "    def lematize(text):\n",
    "        tokens = nltk.word_tokenize(text)\n",
    "        ax = \"\"\n",
    "        for each in tokens:\n",
    "            if each not in stop_words:\n",
    "                ax += lemmatizer.lemmatize(each, fwpt(each)) + \" \"\n",
    "        return ax\n",
    "    \n",
    "    df['Text2'] = df['Text2'].apply(lematize)"
   ]
  },
  {
   "cell_type": "code",
   "execution_count": 3,
   "id": "subtle-floating",
   "metadata": {
    "ExecuteTime": {
     "end_time": "2021-08-01T02:08:25.551690Z",
     "start_time": "2021-08-01T02:07:24.370175Z"
    }
   },
   "outputs": [
    {
     "ename": "NameError",
     "evalue": "name 'full_df' is not defined",
     "output_type": "error",
     "traceback": [
      "\u001b[1;31m---------------------------------------------------------------------------\u001b[0m",
      "\u001b[1;31mNameError\u001b[0m                                 Traceback (most recent call last)",
      "\u001b[1;32mC:\\Users\\SERVEN~1\\AppData\\Local\\Temp/ipykernel_3392/1742235834.py\u001b[0m in \u001b[0;36m<module>\u001b[1;34m\u001b[0m\n\u001b[1;32m----> 1\u001b[1;33m \u001b[0mpreprocess\u001b[0m\u001b[1;33m(\u001b[0m\u001b[0mfull_df\u001b[0m\u001b[1;33m)\u001b[0m\u001b[1;33m\u001b[0m\u001b[1;33m\u001b[0m\u001b[0m\n\u001b[0m",
      "\u001b[1;31mNameError\u001b[0m: name 'full_df' is not defined"
     ]
    }
   ],
   "source": [
    "preprocess(full_df)"
   ]
  },
  {
   "cell_type": "markdown",
   "id": "opposite-baltimore",
   "metadata": {},
   "source": [
    "### Demonstration of Preprocessing\n",
    "\n",
    "**Original:**"
   ]
  },
  {
   "cell_type": "code",
   "execution_count": null,
   "id": "informal-disease",
   "metadata": {
    "ExecuteTime": {
     "end_time": "2021-08-01T02:09:19.409252Z",
     "start_time": "2021-08-01T02:09:19.402659Z"
    }
   },
   "outputs": [
    {
     "data": {
      "text/plain": [
       "'Aids and climate top Davos agenda\\n\\nClimate change and the fight against Aids are leading the list of concerns for the first day of the World Economic Forum in the Swiss resort of Davos.\\n\\nSome 2,000 business and political leaders from around the globe will listen to UK Prime Minister Tony Blair\\'s opening speech on Wednesday. Mr Blair will focus on Africa\\'s development plans and global warming. Earlier in the day came an update on efforts to have 3 million people on anti-Aids drugs by the end of 2005. The World Health Organisation (WHO) said 700,000 people in poor countries were on life-extending drugs - up from 440,000 six months earlier but amounting to only 12% of the 5.8 million who needed them. A $2bn \"funding gap\" still stood in the way of hitting the 2005 target, the WHO said.\\n\\nThe themes to be stressed by Mr Blair - whose attendance was announced at the last minute - are those he wants to dominate the UK\\'s chairmanship of the G8 group of industrialised states. Other issues to be discussed at the five-day conference range from China\\'s\\n\\neconomic power to Iraq\\'s future after this Sunday\\'s elections. Aside from Mr Blair, more than 20 other world leaders are expected to attend including French President Jacques Chirac - due to speak by video link after bad weather delayed his helicopter - and South African President Thabo Mbeki, whose arrival has been delayed by Ivory Coast peace talks. The Ukraine\\'s new president, Viktor Yushchenko, will also be there - as will newly elected Palestinian leader Mahmoud Abbas. Showbiz figures will also put in an appearance, from U2 frontman Bono - a well-known campaigner on trade and development issues - to Angelina Jolie, a goodwill campaigner for the UN on refugees.\\n\\nUnlike previous years, protests against the WEF are expected to be muted. Anti-globalisation campaigners have called off a demonstration planned for the weekend. At the same time, about 100,000 people are expected to converge on the Brazilian resort of Porto Alegre for the World Social Forum - the so-called \"anti-Davos\" for campaigners against globalisation, for fair trade, and many other causes.\\n\\nIn contrast, the Davos forum is dominated by business issues - from outsourcing to corporate leadership - with bosses of more than a fifth of the world\\'s 500 largest companies scheduled to attend. A survey published on the eve of the conference by PricewaterhouseCoopers said four in ten business leaders were \"very confident\" that their companies would see sales rise in 2005. Asian and American executives, however, were much more confident than their European counterparts. But the political discussions, focusing on Iran, Iraq and China, are likely to dominate media attention.\\n'"
      ]
     },
     "execution_count": 11,
     "metadata": {},
     "output_type": "execute_result"
    }
   ],
   "source": [
    "full_df.iloc[1]['Text']"
   ]
  },
  {
   "cell_type": "markdown",
   "id": "continent-teddy",
   "metadata": {},
   "source": [
    "**Processed:**"
   ]
  },
  {
   "cell_type": "code",
   "execution_count": null,
   "id": "incoming-chemical",
   "metadata": {
    "ExecuteTime": {
     "end_time": "2021-08-01T02:10:20.041432Z",
     "start_time": "2021-08-01T02:10:20.031098Z"
    }
   },
   "outputs": [
    {
     "data": {
      "text/plain": [
       "'aid climate top davos agenda climate change fight aid lead list concern first day world economic forum swiss resort davos 2000 business political leader around globe listen uk prime minister tony blair opening speech wednesday mr blair focus africa development plan global warm earlier day come update effort 3 million people antiaids drug end 2005 world health organisation say 700000 people poor country lifeextending drug 440000 six month earlier amount 12 58 million need 2bn funding gap still stood way hit 2005 target say theme stress mr blair whose attendance announce last minute want dominate uk chairmanship g8 group industrialise state issue discuss fiveday conference range china economic power iraq future sunday election aside mr blair 20 world leader expect attend include french president jacques chirac due speak video link bad weather delayed helicopter south african president thabo mbeki whose arrival delayed ivory coast peace talk ukraine new president viktor yushchenko also newly elect palestinian leader mahmoud abbas showbiz figure also put appearance u2 frontman bono wellknown campaigner trade development issue angelina jolie goodwill campaigner un refugee unlike previous year protest wef expect mute antiglobalisation campaigner call demonstration plan weekend time 100000 people expect converge brazilian resort porto alegre world social forum socalled antidavos campaigner globalisation fair trade many cause contrast davos forum dominate business issue outsource corporate leadership boss fifth world 500 large company schedule attend survey publish eve conference pricewaterhousecoopers say four ten business leader confident company would see sale rise 2005 asian american executive however much confident european counterpart political discussion focus iran iraq china likely dominate medium attention '"
      ]
     },
     "execution_count": 12,
     "metadata": {},
     "output_type": "execute_result"
    }
   ],
   "source": [
    "full_df.iloc[1]['Text2']"
   ]
  },
  {
   "cell_type": "markdown",
   "id": "rolled-chancellor",
   "metadata": {},
   "source": [
    "## 3. Train Test Split"
   ]
  },
  {
   "cell_type": "code",
   "execution_count": null,
   "id": "miniature-crime",
   "metadata": {
    "ExecuteTime": {
     "end_time": "2021-08-01T02:19:53.776543Z",
     "start_time": "2021-08-01T02:19:53.695104Z"
    }
   },
   "outputs": [],
   "source": [
    "X_train, X_test, y_train, y_test = train_test_split(full_df['Text2'], \n",
    "                                                    full_df['Class'], \n",
    "                                                    test_size=0.2, \n",
    "                                                    random_state=9)"
   ]
  },
  {
   "cell_type": "markdown",
   "id": "conceptual-specification",
   "metadata": {},
   "source": [
    "#### Check for acceptable category balance"
   ]
  },
  {
   "cell_type": "code",
   "execution_count": null,
   "id": "modular-discount",
   "metadata": {
    "ExecuteTime": {
     "end_time": "2021-08-01T02:23:04.756438Z",
     "start_time": "2021-08-01T02:23:04.493698Z"
    }
   },
   "outputs": [
    {
     "data": {
      "image/png": "[encoded data removed]",
      "text/plain": [
       "<Figure size 640x480 with 1 Axes>"
      ]
     },
     "metadata": {
      "image/png": {
       "height": 528,
       "width": 552
      }
     },
     "output_type": "display_data"
    }
   ],
   "source": [
    "y_train.value_counts().plot(kind='bar')\n",
    "plt.title('Category Balance', size=20, pad=20);"
   ]
  },
  {
   "cell_type": "code",
   "execution_count": null,
   "id": "structural-timeline",
   "metadata": {
    "ExecuteTime": {
     "end_time": "2021-08-01T02:23:54.357909Z",
     "start_time": "2021-08-01T02:23:54.341711Z"
    }
   },
   "outputs": [
    {
     "name": "stdout",
     "output_type": "stream",
     "text": [
      "(1037,) (260,) (1037,) (260,)\n"
     ]
    }
   ],
   "source": [
    "print(X_train.shape, X_test.shape, y_train.shape, y_test.shape)"
   ]
  },
  {
   "cell_type": "markdown",
   "id": "theoretical-payment",
   "metadata": {},
   "source": [
    "## 4.  Vectorize"
   ]
  },
  {
   "cell_type": "code",
   "execution_count": null,
   "id": "present-company",
   "metadata": {
    "ExecuteTime": {
     "end_time": "2021-08-01T02:24:58.293184Z",
     "start_time": "2021-08-01T02:24:58.262149Z"
    }
   },
   "outputs": [],
   "source": [
    "vector = TfidfVectorizer(stop_words='english', \n",
    "                         ngram_range = (1,2),\n",
    "                         min_df = 3,\n",
    "                         max_df = 1.,\n",
    "                         max_features = 10000)"
   ]
  },
  {
   "cell_type": "markdown",
   "id": "progressive-detroit",
   "metadata": {},
   "source": [
    "## 5.  Construct Model"
   ]
  },
  {
   "cell_type": "code",
   "execution_count": null,
   "id": "natural-louis",
   "metadata": {
    "ExecuteTime": {
     "end_time": "2021-08-01T02:30:47.223623Z",
     "start_time": "2021-08-01T02:30:47.193232Z"
    }
   },
   "outputs": [],
   "source": [
    "def fit_model(model, model_name):\n",
    "    line = Pipeline([('vectorize', vector), (model_name, model)])\n",
    "    \n",
    "    output = cross_validate(line, \n",
    "                            X_train, \n",
    "                            y_train, \n",
    "                            cv = KFold(shuffle = True, \n",
    "                                       n_splits = 3,  \n",
    "                                       random_state = 9),\n",
    "                            scoring = ('accuracy', 'f1_weighted','precision_weighted','recall_weighted'),           \n",
    "                            return_train_score=True)\n",
    "    return output"
   ]
  },
  {
   "cell_type": "code",
   "execution_count": null,
   "id": "reasonable-inspector",
   "metadata": {
    "ExecuteTime": {
     "end_time": "2021-08-01T02:31:41.443274Z",
     "start_time": "2021-08-01T02:31:29.795635Z"
    }
   },
   "outputs": [],
   "source": [
    "dectree = fit_model(DecisionTreeClassifier(), 'DTree')\n",
    "ridge = fit_model(RidgeClassifier(), 'Ridge')\n",
    "bayes = fit_model(MultinomialNB(), 'NB')\n",
    "\n",
    "dt = pd.DataFrame.from_dict(dectree)\n",
    "rc = pd.DataFrame.from_dict(ridge)\n",
    "bc = pd.DataFrame.from_dict(bayes)"
   ]
  },
  {
   "cell_type": "code",
   "execution_count": null,
   "id": "compressed-contractor",
   "metadata": {
    "ExecuteTime": {
     "end_time": "2021-08-01T02:32:19.672291Z",
     "start_time": "2021-08-01T02:32:19.642518Z"
    }
   },
   "outputs": [],
   "source": [
    "l1 = [bc, rc, dt]\n",
    "l2 =[\"NB\", \"Ridge\", \"DT\"]\n",
    "\n",
    "for each, tag in zip(l1, l2):\n",
    "    each['model'] = [tag, tag, tag]\n",
    "\n",
    "joined_output = pd.concat([bc,rc,dt])"
   ]
  },
  {
   "cell_type": "code",
   "execution_count": null,
   "id": "automatic-device",
   "metadata": {
    "ExecuteTime": {
     "end_time": "2021-08-01T02:33:12.025271Z",
     "start_time": "2021-08-01T02:33:12.016908Z"
    }
   },
   "outputs": [
    {
     "data": {
      "text/plain": [
       "{'fit_time': array([0.60303116, 0.50401711, 0.55499101]),\n",
       " 'score_time': array([0.09899759, 0.09698248, 0.09697533]),\n",
       " 'test_accuracy': array([0.84393064, 0.88728324, 0.88115942]),\n",
       " 'train_accuracy': array([1., 1., 1.]),\n",
       " 'test_f1_weighted': array([0.84297983, 0.88689423, 0.88122904]),\n",
       " 'train_f1_weighted': array([1., 1., 1.]),\n",
       " 'test_precision_weighted': array([0.8454286 , 0.88762908, 0.88414188]),\n",
       " 'train_precision_weighted': array([1., 1., 1.]),\n",
       " 'test_recall_weighted': array([0.84393064, 0.88728324, 0.88115942]),\n",
       " 'train_recall_weighted': array([1., 1., 1.])}"
      ]
     },
     "execution_count": 20,
     "metadata": {},
     "output_type": "execute_result"
    }
   ],
   "source": [
    "dectree"
   ]
  },
  {
   "cell_type": "code",
   "execution_count": null,
   "id": "worth-marijuana",
   "metadata": {
    "ExecuteTime": {
     "end_time": "2021-08-01T02:33:21.177196Z",
     "start_time": "2021-08-01T02:33:21.168888Z"
    }
   },
   "outputs": [
    {
     "data": {
      "text/plain": [
       "{'fit_time': array([0.46500754, 0.42399597, 0.43499827]),\n",
       " 'score_time': array([0.17399287, 0.10000229, 0.09899926]),\n",
       " 'test_accuracy': array([0.97398844, 0.97976879, 0.9826087 ]),\n",
       " 'train_accuracy': array([1., 1., 1.]),\n",
       " 'test_f1_weighted': array([0.97402024, 0.9797116 , 0.982637  ]),\n",
       " 'train_f1_weighted': array([1., 1., 1.]),\n",
       " 'test_precision_weighted': array([0.97412924, 0.98002673, 0.98303811]),\n",
       " 'train_precision_weighted': array([1., 1., 1.]),\n",
       " 'test_recall_weighted': array([0.97398844, 0.97976879, 0.9826087 ]),\n",
       " 'train_recall_weighted': array([1., 1., 1.])}"
      ]
     },
     "execution_count": 21,
     "metadata": {},
     "output_type": "execute_result"
    }
   ],
   "source": [
    "ridge"
   ]
  },
  {
   "cell_type": "code",
   "execution_count": null,
   "id": "cleared-romania",
   "metadata": {
    "ExecuteTime": {
     "end_time": "2021-08-01T02:33:33.009773Z",
     "start_time": "2021-08-01T02:33:33.001230Z"
    }
   },
   "outputs": [
    {
     "data": {
      "text/plain": [
       "{'fit_time': array([0.41796803, 0.52205276, 0.42104125]),\n",
       " 'score_time': array([0.09699893, 0.09594822, 0.09099054]),\n",
       " 'test_accuracy': array([0.97687861, 0.9566474 , 0.96811594]),\n",
       " 'train_accuracy': array([0.99421129, 0.99131693, 0.99566474]),\n",
       " 'test_f1_weighted': array([0.97693037, 0.95689227, 0.96824353]),\n",
       " 'train_f1_weighted': array([0.99421129, 0.9913261 , 0.99566425]),\n",
       " 'test_precision_weighted': array([0.97719738, 0.95881394, 0.96867114]),\n",
       " 'train_precision_weighted': array([0.99421129, 0.99138305, 0.99569032]),\n",
       " 'test_recall_weighted': array([0.97687861, 0.9566474 , 0.96811594]),\n",
       " 'train_recall_weighted': array([0.99421129, 0.99131693, 0.99566474])}"
      ]
     },
     "execution_count": 22,
     "metadata": {},
     "output_type": "execute_result"
    }
   ],
   "source": [
    "bayes"
   ]
  },
  {
   "cell_type": "code",
   "execution_count": null,
   "id": "elect-trail",
   "metadata": {
    "ExecuteTime": {
     "end_time": "2021-08-01T02:34:09.787789Z",
     "start_time": "2021-08-01T02:34:09.744308Z"
    }
   },
   "outputs": [],
   "source": [
    "relevant_measures = list(['test_accuracy','test_precision_weighted', 'test_recall_weighted', 'test_f1_weighted'])\n",
    "\n",
    "dec_tree_metrics = joined_output.loc[joined_output.model == 'DT'][relevant_measures]\n",
    "nb_metrics = joined_output.loc[joined_output.model == 'NB'][relevant_measures]\n",
    "r_metrics = joined_output.loc[joined_output.model == 'Ridge'][relevant_measures]"
   ]
  },
  {
   "cell_type": "markdown",
   "id": "entitled-pharmacy",
   "metadata": {},
   "source": [
    "#### Decision Tree metrics"
   ]
  },
  {
   "cell_type": "code",
   "execution_count": null,
   "id": "proud-movement",
   "metadata": {
    "ExecuteTime": {
     "end_time": "2021-08-01T02:34:45.966238Z",
     "start_time": "2021-08-01T02:34:45.956440Z"
    }
   },
   "outputs": [
    {
     "data": {
      "text/html": [
       "<div>\n",
       "<style scoped>\n",
       "    .dataframe tbody tr th:only-of-type {\n",
       "        vertical-align: middle;\n",
       "    }\n",
       "\n",
       "    .dataframe tbody tr th {\n",
       "        vertical-align: top;\n",
       "    }\n",
       "\n",
       "    .dataframe thead th {\n",
       "        text-align: right;\n",
       "    }\n",
       "</style>\n",
       "<table border=\"1\" class=\"dataframe\">\n",
       "  <thead>\n",
       "    <tr style=\"text-align: right;\">\n",
       "      <th></th>\n",
       "      <th>test_accuracy</th>\n",
       "      <th>test_precision_weighted</th>\n",
       "      <th>test_recall_weighted</th>\n",
       "      <th>test_f1_weighted</th>\n",
       "    </tr>\n",
       "  </thead>\n",
       "  <tbody>\n",
       "    <tr>\n",
       "      <th>0</th>\n",
       "      <td>0.843931</td>\n",
       "      <td>0.845429</td>\n",
       "      <td>0.843931</td>\n",
       "      <td>0.842980</td>\n",
       "    </tr>\n",
       "    <tr>\n",
       "      <th>1</th>\n",
       "      <td>0.887283</td>\n",
       "      <td>0.887629</td>\n",
       "      <td>0.887283</td>\n",
       "      <td>0.886894</td>\n",
       "    </tr>\n",
       "    <tr>\n",
       "      <th>2</th>\n",
       "      <td>0.881159</td>\n",
       "      <td>0.884142</td>\n",
       "      <td>0.881159</td>\n",
       "      <td>0.881229</td>\n",
       "    </tr>\n",
       "  </tbody>\n",
       "</table>\n",
       "</div>"
      ],
      "text/plain": [
       "   test_accuracy  test_precision_weighted  test_recall_weighted  \\\n",
       "0       0.843931                 0.845429              0.843931   \n",
       "1       0.887283                 0.887629              0.887283   \n",
       "2       0.881159                 0.884142              0.881159   \n",
       "\n",
       "   test_f1_weighted  \n",
       "0          0.842980  \n",
       "1          0.886894  \n",
       "2          0.881229  "
      ]
     },
     "execution_count": 24,
     "metadata": {},
     "output_type": "execute_result"
    }
   ],
   "source": [
    "dec_tree_metrics"
   ]
  },
  {
   "cell_type": "markdown",
   "id": "quality-aspect",
   "metadata": {},
   "source": [
    "#### Multinomial Naive Bayes metrics"
   ]
  },
  {
   "cell_type": "code",
   "execution_count": null,
   "id": "lucky-chance",
   "metadata": {
    "ExecuteTime": {
     "end_time": "2021-08-01T02:35:22.423739Z",
     "start_time": "2021-08-01T02:35:22.412406Z"
    }
   },
   "outputs": [
    {
     "data": {
      "text/html": [
       "<div>\n",
       "<style scoped>\n",
       "    .dataframe tbody tr th:only-of-type {\n",
       "        vertical-align: middle;\n",
       "    }\n",
       "\n",
       "    .dataframe tbody tr th {\n",
       "        vertical-align: top;\n",
       "    }\n",
       "\n",
       "    .dataframe thead th {\n",
       "        text-align: right;\n",
       "    }\n",
       "</style>\n",
       "<table border=\"1\" class=\"dataframe\">\n",
       "  <thead>\n",
       "    <tr style=\"text-align: right;\">\n",
       "      <th></th>\n",
       "      <th>test_accuracy</th>\n",
       "      <th>test_precision_weighted</th>\n",
       "      <th>test_recall_weighted</th>\n",
       "      <th>test_f1_weighted</th>\n",
       "    </tr>\n",
       "  </thead>\n",
       "  <tbody>\n",
       "    <tr>\n",
       "      <th>0</th>\n",
       "      <td>0.976879</td>\n",
       "      <td>0.977197</td>\n",
       "      <td>0.976879</td>\n",
       "      <td>0.976930</td>\n",
       "    </tr>\n",
       "    <tr>\n",
       "      <th>1</th>\n",
       "      <td>0.956647</td>\n",
       "      <td>0.958814</td>\n",
       "      <td>0.956647</td>\n",
       "      <td>0.956892</td>\n",
       "    </tr>\n",
       "    <tr>\n",
       "      <th>2</th>\n",
       "      <td>0.968116</td>\n",
       "      <td>0.968671</td>\n",
       "      <td>0.968116</td>\n",
       "      <td>0.968244</td>\n",
       "    </tr>\n",
       "  </tbody>\n",
       "</table>\n",
       "</div>"
      ],
      "text/plain": [
       "   test_accuracy  test_precision_weighted  test_recall_weighted  \\\n",
       "0       0.976879                 0.977197              0.976879   \n",
       "1       0.956647                 0.958814              0.956647   \n",
       "2       0.968116                 0.968671              0.968116   \n",
       "\n",
       "   test_f1_weighted  \n",
       "0          0.976930  \n",
       "1          0.956892  \n",
       "2          0.968244  "
      ]
     },
     "execution_count": 25,
     "metadata": {},
     "output_type": "execute_result"
    }
   ],
   "source": [
    "nb_metrics"
   ]
  },
  {
   "cell_type": "markdown",
   "id": "identified-tragedy",
   "metadata": {},
   "source": [
    "#### Ridge Classifier metrics"
   ]
  },
  {
   "cell_type": "code",
   "execution_count": null,
   "id": "balanced-spain",
   "metadata": {
    "ExecuteTime": {
     "end_time": "2021-08-01T02:36:04.986734Z",
     "start_time": "2021-08-01T02:36:04.976516Z"
    }
   },
   "outputs": [
    {
     "data": {
      "text/html": [
       "<div>\n",
       "<style scoped>\n",
       "    .dataframe tbody tr th:only-of-type {\n",
       "        vertical-align: middle;\n",
       "    }\n",
       "\n",
       "    .dataframe tbody tr th {\n",
       "        vertical-align: top;\n",
       "    }\n",
       "\n",
       "    .dataframe thead th {\n",
       "        text-align: right;\n",
       "    }\n",
       "</style>\n",
       "<table border=\"1\" class=\"dataframe\">\n",
       "  <thead>\n",
       "    <tr style=\"text-align: right;\">\n",
       "      <th></th>\n",
       "      <th>test_accuracy</th>\n",
       "      <th>test_precision_weighted</th>\n",
       "      <th>test_recall_weighted</th>\n",
       "      <th>test_f1_weighted</th>\n",
       "    </tr>\n",
       "  </thead>\n",
       "  <tbody>\n",
       "    <tr>\n",
       "      <th>0</th>\n",
       "      <td>0.973988</td>\n",
       "      <td>0.974129</td>\n",
       "      <td>0.973988</td>\n",
       "      <td>0.974020</td>\n",
       "    </tr>\n",
       "    <tr>\n",
       "      <th>1</th>\n",
       "      <td>0.979769</td>\n",
       "      <td>0.980027</td>\n",
       "      <td>0.979769</td>\n",
       "      <td>0.979712</td>\n",
       "    </tr>\n",
       "    <tr>\n",
       "      <th>2</th>\n",
       "      <td>0.982609</td>\n",
       "      <td>0.983038</td>\n",
       "      <td>0.982609</td>\n",
       "      <td>0.982637</td>\n",
       "    </tr>\n",
       "  </tbody>\n",
       "</table>\n",
       "</div>"
      ],
      "text/plain": [
       "   test_accuracy  test_precision_weighted  test_recall_weighted  \\\n",
       "0       0.973988                 0.974129              0.973988   \n",
       "1       0.979769                 0.980027              0.979769   \n",
       "2       0.982609                 0.983038              0.982609   \n",
       "\n",
       "   test_f1_weighted  \n",
       "0          0.974020  \n",
       "1          0.979712  \n",
       "2          0.982637  "
      ]
     },
     "execution_count": 26,
     "metadata": {},
     "output_type": "execute_result"
    }
   ],
   "source": [
    "r_metrics"
   ]
  },
  {
   "cell_type": "markdown",
   "id": "greenhouse-minutes",
   "metadata": {},
   "source": [
    "#### Average metrics"
   ]
  },
  {
   "cell_type": "code",
   "execution_count": null,
   "id": "stainless-composite",
   "metadata": {
    "ExecuteTime": {
     "end_time": "2021-08-01T02:39:58.060999Z",
     "start_time": "2021-08-01T02:39:58.049490Z"
    }
   },
   "outputs": [
    {
     "name": "stdout",
     "output_type": "stream",
     "text": [
      "Decision Tree Mean Metrics:\n",
      "test_accuracy              0.870791\n",
      "test_precision_weighted    0.872400\n",
      "test_recall_weighted       0.870791\n",
      "test_f1_weighted           0.870368\n",
      "dtype: float64\n",
      "  \n",
      "Naive Bayes Mean Metrics:\n",
      "test_accuracy              0.967214\n",
      "test_precision_weighted    0.968227\n",
      "test_recall_weighted       0.967214\n",
      "test_f1_weighted           0.967355\n",
      "dtype: float64\n",
      "  \n",
      "Ridge Classifier Mean Metrics:\n",
      "test_accuracy              0.978789\n",
      "test_precision_weighted    0.979065\n",
      "test_recall_weighted       0.978789\n",
      "test_f1_weighted           0.978790\n",
      "dtype: float64\n",
      "  \n"
     ]
    }
   ],
   "source": [
    "metrics_ = [dec_tree_metrics, nb_metrics, r_metrics]\n",
    "names_ = ['Decision Tree', 'Naive Bayes', 'Ridge Classifier']\n",
    "\n",
    "for scores, namess in zip(metrics_, names_):\n",
    "    print(f'{namess} Mean Metrics:')\n",
    "    print(scores.mean())\n",
    "    print('  ')"
   ]
  },
  {
   "cell_type": "markdown",
   "id": "polish-speaking",
   "metadata": {},
   "source": [
    "### Selection of Model\n",
    "From the metrics obtained above, we see that **Ridge Classifier** performs best. However, the **Multinomial Naive Bayes classifier** is chosen to create the final model.\n",
    "\n",
    "This is because it **has the ability to provide probability score** for each prediction it makes, while scoring similarly to the best model."
   ]
  },
  {
   "cell_type": "code",
   "execution_count": null,
   "id": "dense-guyana",
   "metadata": {
    "ExecuteTime": {
     "end_time": "2021-08-01T02:44:16.662468Z",
     "start_time": "2021-08-01T02:44:16.580681Z"
    }
   },
   "outputs": [],
   "source": [
    "# Join training and test datasets\n",
    "X = pd.concat([X_train, \n",
    "               X_test])\n",
    "y = pd.concat([y_train, \n",
    "               y_test])"
   ]
  },
  {
   "cell_type": "code",
   "execution_count": null,
   "id": "british-sydney",
   "metadata": {
    "ExecuteTime": {
     "end_time": "2021-08-01T02:44:29.080314Z",
     "start_time": "2021-08-01T02:44:29.044334Z"
    }
   },
   "outputs": [],
   "source": [
    "def create_and_fit(clf, x, y):\n",
    "    best_clf = clf\n",
    "    pipeline = Pipeline([('vectorize', vector), ('model', best_clf)])\n",
    "    return pipeline.fit(x, y)"
   ]
  },
  {
   "cell_type": "code",
   "execution_count": null,
   "id": "stock-irish",
   "metadata": {
    "ExecuteTime": {
     "end_time": "2021-08-01T02:45:18.860042Z",
     "start_time": "2021-08-01T02:45:17.006039Z"
    }
   },
   "outputs": [],
   "source": [
    "# Create model\n",
    "CLASSYfier = create_and_fit(MultinomialNB(), X, y)"
   ]
  },
  {
   "cell_type": "code",
   "execution_count": null,
   "id": "united-syndication",
   "metadata": {
    "ExecuteTime": {
     "end_time": "2021-08-01T02:45:44.869993Z",
     "start_time": "2021-08-01T02:45:44.846627Z"
    }
   },
   "outputs": [
    {
     "data": {
      "text/plain": [
       "array(['arts', 'business', 'tech'], dtype='<U8')"
      ]
     },
     "execution_count": 31,
     "metadata": {},
     "output_type": "execute_result"
    }
   ],
   "source": [
    "CLASSYfier.classes_"
   ]
  },
  {
   "cell_type": "markdown",
   "id": "differential-substance",
   "metadata": {},
   "source": [
    "## FINAL TESTING:\n",
    "\n",
    "The first sample text used is a tech news article about streaming services and video games. \n",
    "\n",
    "The classifier, if appropriate, should classify this as a tech text."
   ]
  },
  {
   "cell_type": "code",
   "execution_count": null,
   "id": "external-reminder",
   "metadata": {
    "ExecuteTime": {
     "end_time": "2021-08-01T02:47:36.005810Z",
     "start_time": "2021-08-01T02:47:35.960191Z"
    }
   },
   "outputs": [
    {
     "data": {
      "text/plain": [
       "array([[0.15088487, 0.39664897, 0.45246616]])"
      ]
     },
     "execution_count": 32,
     "metadata": {},
     "output_type": "execute_result"
    }
   ],
   "source": [
    "input_text = '(Reuters) -Netflix Inc said it would make a deeper dive into video games as the movie and TV streaming service projected weak subscriber growth amid growing competition and the lifting of pandemic restrictions that had kept people at home.'\n",
    "CLASSYfier.predict_proba([input_text])"
   ]
  },
  {
   "cell_type": "code",
   "execution_count": null,
   "id": "headed-render",
   "metadata": {
    "ExecuteTime": {
     "end_time": "2021-08-01T03:14:11.710315Z",
     "start_time": "2021-08-01T03:14:11.693640Z"
    }
   },
   "outputs": [
    {
     "data": {
      "text/plain": [
       "'tech'"
      ]
     },
     "execution_count": 33,
     "metadata": {},
     "output_type": "execute_result"
    }
   ],
   "source": [
    "CLASSYfier.predict([input_text])[0]"
   ]
  },
  {
   "cell_type": "markdown",
   "id": "champion-found",
   "metadata": {},
   "source": [
    "Interestingly, since the streaming services are also businesses, the model reflects this with a `0.39` probability for the business category."
   ]
  },
  {
   "cell_type": "markdown",
   "id": "mediterranean-diamond",
   "metadata": {},
   "source": [
    "## GUI"
   ]
  },
  {
   "cell_type": "code",
   "execution_count": null,
   "id": "military-sense",
   "metadata": {
    "ExecuteTime": {
     "end_time": "2021-08-01T22:54:14.333183Z",
     "start_time": "2021-08-01T22:40:20.981984Z"
    }
   },
   "outputs": [],
   "source": [
    "import tkinter as tk\n",
    "from tkinter.scrolledtext import ScrolledText\n",
    "\n",
    "\n",
    "window = tk.Tk()\n",
    "\n",
    "\n",
    "window.title(\"TEXT CLASSIFIER\")\n",
    "window.minsize(600,400)\n",
    "\n",
    "text_box = ScrolledText(window)\n",
    "text_box.grid(column=0, row=1, padx=5, pady=5)\n",
    "\n",
    "def result(res, pr):\n",
    "    ARTS = round(pr[0][0], 3)\n",
    "    BUSINESS = round(pr[0][1], 3)\n",
    "    TECH = round(pr[0][2], 3)\n",
    "    \n",
    "    lines = [f\"Arts: {ARTS}\", f\"Business: {BUSINESS}\", f\"Tech: {TECH}\"]\n",
    "    tk.messagebox.showinfo(message= f\"Predicted Category: {str(res).capitalize()}\" + \"\\n\\n\\n\"+\"\\n\".join(lines))\n",
    "\n",
    "def clickMe():\n",
    "    classification = tk.StringVar()\n",
    "    category_,probabilities = classify_text(text_box.get(\"1.0\",tk.END))\n",
    "    result(category_, probabilities)\n",
    "    \n",
    "\n",
    "def classify_text(input_text):\n",
    "    out = CLASSYfier.predict([input_text])[0]\n",
    "    probs = CLASSYfier.predict_proba([input_text])\n",
    "    return out,probs\n",
    "\n",
    "label = tk.Label(window, text = \"Enter Text to be classified\")\n",
    "label.grid(column = 0, row = 0)\n",
    "\n",
    "btn = tk.Button(window, text=\"Classify\", command=clickMe)\n",
    "btn.grid(column=0, row=2)\n",
    "   \n",
    "\n",
    "\n",
    "\n",
    "window.mainloop()"
   ]
  }
 ],
 "metadata": {
  "kernelspec": {
   "display_name": "Python 3 (ipykernel)",
   "language": "python",
   "name": "python3"
  },
  "language_info": {
   "codemirror_mode": {
    "name": "ipython",
    "version": 3
   },
   "file_extension": ".py",
   "mimetype": "text/x-python",
   "name": "python",
   "nbconvert_exporter": "python",
   "pygments_lexer": "ipython3",
   "version": "3.9.7"
  },
  "varInspector": {
   "cols": {
    "lenName": 16,
    "lenType": 16,
    "lenVar": 40
   },
   "kernels_config": {
    "python": {
     "delete_cmd_postfix": "",
     "delete_cmd_prefix": "del ",
     "library": "var_list.py",
     "varRefreshCmd": "print(var_dic_list())"
    },
    "r": {
     "delete_cmd_postfix": ") ",
     "delete_cmd_prefix": "rm(",
     "library": "var_list.r",
     "varRefreshCmd": "cat(var_dic_list()) "
    }
   },
   "types_to_exclude": [
    "module",
    "function",
    "builtin_function_or_method",
    "instance",
    "_Feature"
   ],
   "window_display": false
  }
 },
 "nbformat": 4,
 "nbformat_minor": 5
}
