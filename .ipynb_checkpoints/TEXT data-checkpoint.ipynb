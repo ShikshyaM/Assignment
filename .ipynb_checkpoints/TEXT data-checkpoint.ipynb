{
 "cells": [
  {
   "cell_type": "code",
   "execution_count": null,
   "id": "another-closer",
   "metadata": {
    "ExecuteTime": {
     "end_time": "2021-08-01T23:29:53.319184Z",
     "start_time": "2021-08-01T23:29:52.131137Z"
    }
   },
   "outputs": [],
   "source": [
    "import pandas as pd"
   ]
  },
  {
   "cell_type": "code",
   "execution_count": null,
   "id": "acceptable-alpha",
   "metadata": {
    "ExecuteTime": {
     "end_time": "2021-08-01T23:30:35.152207Z",
     "start_time": "2021-08-01T23:30:35.057016Z"
    }
   },
   "outputs": [],
   "source": [
    "training_dataset = pd.read_csv('news_df.csv')"
   ]
  },
  {
   "cell_type": "code",
   "execution_count": null,
   "id": "charming-andrew",
   "metadata": {
    "ExecuteTime": {
     "end_time": "2021-08-01T23:32:17.436275Z",
     "start_time": "2021-08-01T23:32:17.428074Z"
    }
   },
   "outputs": [],
   "source": [
    "print(training_dataset)"
   ]
  },
  {
   "cell_type": "code",
   "execution_count": null,
   "id": "based-preliminary",
   "metadata": {
    "ExecuteTime": {
     "end_time": "2021-08-01T23:35:40.212983Z",
     "start_time": "2021-08-01T23:35:39.526014Z"
    }
   },
   "outputs": [],
   "source": [
    "for text,label in zip(training_dataset.Text, training_dataset.Class):\n",
    "    print(f'CATEGORY: {label}')\n",
    "    print('\\n')\n",
    "    print(f'TEXT: {text}')\n",
    "    print('\\n\\n')\n",
    "    "
   ]
  },
  {
   "cell_type": "code",
   "execution_count": null,
   "id": "micro-gibraltar",
   "metadata": {},
   "outputs": [],
   "source": []
  }
 ],
 "metadata": {
  "kernelspec": {
   "display_name": "Python 3 (ipykernel)",
   "language": "python",
   "name": "python3"
  },
  "language_info": {
   "codemirror_mode": {
    "name": "ipython",
    "version": 3
   },
   "file_extension": ".py",
   "mimetype": "text/x-python",
   "name": "python",
   "nbconvert_exporter": "python",
   "pygments_lexer": "ipython3",
   "version": "3.9.7"
  },
  "varInspector": {
   "cols": {
    "lenName": 16,
    "lenType": 16,
    "lenVar": 40
   },
   "kernels_config": {
    "python": {
     "delete_cmd_postfix": "",
     "delete_cmd_prefix": "del ",
     "library": "var_list.py",
     "varRefreshCmd": "print(var_dic_list())"
    },
    "r": {
     "delete_cmd_postfix": ") ",
     "delete_cmd_prefix": "rm(",
     "library": "var_list.r",
     "varRefreshCmd": "cat(var_dic_list()) "
    }
   },
   "types_to_exclude": [
    "module",
    "function",
    "builtin_function_or_method",
    "instance",
    "_Feature"
   ],
   "window_display": false
  }
 },
 "nbformat": 4,
 "nbformat_minor": 5
}
